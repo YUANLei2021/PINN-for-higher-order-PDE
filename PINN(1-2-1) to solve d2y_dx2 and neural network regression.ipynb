{
 "cells": [
  {
   "cell_type": "code",
   "execution_count": 1,
   "metadata": {},
   "outputs": [],
   "source": [
    "from sympy import symbols, latex\n",
    "from sympy import diff, tanh\n",
    "import numpy as np\n"
   ]
  },
  {
   "cell_type": "code",
   "execution_count": 2,
   "metadata": {},
   "outputs": [
    {
     "data": {
      "text/latex": [
       "$\\displaystyle b_{2} + w_{21} \\tanh{\\left(b_{11} + w_{11} x \\right)} + w_{22} \\tanh{\\left(b_{12} + w_{12} x \\right)}$"
      ],
      "text/plain": [
       "b2 + w21*tanh(b11 + w11*x) + w22*tanh(b12 + w12*x)"
      ]
     },
     "execution_count": 2,
     "metadata": {},
     "output_type": "execute_result"
    }
   ],
   "source": [
    "x = symbols('x')\n",
    "w11, w12, w21, w22 = symbols('w11 w12 w21 w22')\n",
    "b11, b12, b2 = symbols('b11 b12 b2')\n",
    "y = w21*tanh(w11*x + b11) + w22 * tanh(w12*x + b12) + b2\n",
    "y"
   ]
  },
  {
   "cell_type": "code",
   "execution_count": 3,
   "metadata": {},
   "outputs": [
    {
     "data": {
      "text/latex": [
       "$\\displaystyle w_{11} w_{21} \\left(1 - \\tanh^{2}{\\left(b_{11} + w_{11} x \\right)}\\right) + w_{12} w_{22} \\left(1 - \\tanh^{2}{\\left(b_{12} + w_{12} x \\right)}\\right)$"
      ],
      "text/plain": [
       "w11*w21*(1 - tanh(b11 + w11*x)**2) + w12*w22*(1 - tanh(b12 + w12*x)**2)"
      ]
     },
     "execution_count": 3,
     "metadata": {},
     "output_type": "execute_result"
    }
   ],
   "source": [
    "dy_dx = diff(y, x)\n",
    "dy_dx"
   ]
  },
  {
   "cell_type": "code",
   "execution_count": 4,
   "metadata": {},
   "outputs": [
    {
     "data": {
      "text/latex": [
       "$\\displaystyle - 2 w_{11}^{2} w_{21} \\left(1 - \\tanh^{2}{\\left(b_{11} + w_{11} x \\right)}\\right) \\tanh{\\left(b_{11} + w_{11} x \\right)} - 2 w_{12}^{2} w_{22} \\left(1 - \\tanh^{2}{\\left(b_{12} + w_{12} x \\right)}\\right) \\tanh{\\left(b_{12} + w_{12} x \\right)}$"
      ],
      "text/plain": [
       "-2*w11**2*w21*(1 - tanh(b11 + w11*x)**2)*tanh(b11 + w11*x) - 2*w12**2*w22*(1 - tanh(b12 + w12*x)**2)*tanh(b12 + w12*x)"
      ]
     },
     "execution_count": 4,
     "metadata": {},
     "output_type": "execute_result"
    }
   ],
   "source": [
    "dy_dx2 = diff(dy_dx, x)\n",
    "dy_dx2\n"
   ]
  },
  {
   "cell_type": "code",
   "execution_count": 5,
   "metadata": {},
   "outputs": [
    {
     "data": {
      "text/latex": [
       "$\\displaystyle \\left(- 2 w_{11}^{2} w_{21} \\left(1 - \\tanh^{2}{\\left(b_{11} + w_{11} x \\right)}\\right) \\tanh{\\left(b_{11} + w_{11} x \\right)} - 2 w_{12}^{2} w_{22} \\left(1 - \\tanh^{2}{\\left(b_{12} + w_{12} x \\right)}\\right) \\tanh{\\left(b_{12} + w_{12} x \\right)}\\right)^{2}$"
      ],
      "text/plain": [
       "(-2*w11**2*w21*(1 - tanh(b11 + w11*x)**2)*tanh(b11 + w11*x) - 2*w12**2*w22*(1 - tanh(b12 + w12*x)**2)*tanh(b12 + w12*x))**2"
      ]
     },
     "execution_count": 5,
     "metadata": {},
     "output_type": "execute_result"
    }
   ],
   "source": [
    "loss = dy_dx2**2\n",
    "loss"
   ]
  },
  {
   "cell_type": "code",
   "execution_count": 6,
   "metadata": {},
   "outputs": [
    {
     "data": {
      "text/latex": [
       "$\\displaystyle \\left(- 2 w_{11}^{2} w_{21} \\left(1 - \\tanh^{2}{\\left(b_{11} + w_{11} x \\right)}\\right) \\tanh{\\left(b_{11} + w_{11} x \\right)} - 2 w_{12}^{2} w_{22} \\left(1 - \\tanh^{2}{\\left(b_{12} + w_{12} x \\right)}\\right) \\tanh{\\left(b_{12} + w_{12} x \\right)}\\right) \\left(- 4 w_{11}^{2} w_{21} x \\left(1 - \\tanh^{2}{\\left(b_{11} + w_{11} x \\right)}\\right)^{2} + 8 w_{11}^{2} w_{21} x \\left(1 - \\tanh^{2}{\\left(b_{11} + w_{11} x \\right)}\\right) \\tanh^{2}{\\left(b_{11} + w_{11} x \\right)} - 8 w_{11} w_{21} \\left(1 - \\tanh^{2}{\\left(b_{11} + w_{11} x \\right)}\\right) \\tanh{\\left(b_{11} + w_{11} x \\right)}\\right)$"
      ],
      "text/plain": [
       "(-2*w11**2*w21*(1 - tanh(b11 + w11*x)**2)*tanh(b11 + w11*x) - 2*w12**2*w22*(1 - tanh(b12 + w12*x)**2)*tanh(b12 + w12*x))*(-4*w11**2*w21*x*(1 - tanh(b11 + w11*x)**2)**2 + 8*w11**2*w21*x*(1 - tanh(b11 + w11*x)**2)*tanh(b11 + w11*x)**2 - 8*w11*w21*(1 - tanh(b11 + w11*x)**2)*tanh(b11 + w11*x))"
      ]
     },
     "execution_count": 6,
     "metadata": {},
     "output_type": "execute_result"
    }
   ],
   "source": [
    "dl_dw11 = diff(loss, w11)\n",
    "dl_dw11"
   ]
  },
  {
   "cell_type": "code",
   "execution_count": 7,
   "metadata": {},
   "outputs": [
    {
     "name": "stdout",
     "output_type": "stream",
     "text": [
      "- - - - - - - - - - - - - - - - - - - - - - - - - - - - - - - - - - - - - - - - \n"
     ]
    }
   ],
   "source": [
    "print('- - '*20)"
   ]
  },
  {
   "cell_type": "code",
   "execution_count": 8,
   "metadata": {},
   "outputs": [
    {
     "data": {
      "text/latex": [
       "$\\displaystyle \\left(b_{2} + w_{21} \\tanh{\\left(b_{11} + w_{11} x \\right)} + w_{22} \\tanh{\\left(b_{12} + w_{12} x \\right)}\\right)^{2}$"
      ],
      "text/plain": [
       "(b2 + w21*tanh(b11 + w11*x) + w22*tanh(b12 + w12*x))**2"
      ]
     },
     "execution_count": 8,
     "metadata": {},
     "output_type": "execute_result"
    }
   ],
   "source": [
    "loss = y**2\n",
    "loss"
   ]
  },
  {
   "cell_type": "code",
   "execution_count": 9,
   "metadata": {},
   "outputs": [
    {
     "data": {
      "text/latex": [
       "$\\displaystyle 2 w_{21} x \\left(1 - \\tanh^{2}{\\left(b_{11} + w_{11} x \\right)}\\right) \\left(b_{2} + w_{21} \\tanh{\\left(b_{11} + w_{11} x \\right)} + w_{22} \\tanh{\\left(b_{12} + w_{12} x \\right)}\\right)$"
      ],
      "text/plain": [
       "2*w21*x*(1 - tanh(b11 + w11*x)**2)*(b2 + w21*tanh(b11 + w11*x) + w22*tanh(b12 + w12*x))"
      ]
     },
     "execution_count": 9,
     "metadata": {},
     "output_type": "execute_result"
    }
   ],
   "source": [
    "dl_dw11 = diff(loss, w11)\n",
    "dl_dw11"
   ]
  }
 ],
 "metadata": {
  "kernelspec": {
   "display_name": "Python 3",
   "language": "python",
   "name": "python3"
  },
  "language_info": {
   "codemirror_mode": {
    "name": "ipython",
    "version": 3
   },
   "file_extension": ".py",
   "mimetype": "text/x-python",
   "name": "python",
   "nbconvert_exporter": "python",
   "pygments_lexer": "ipython3",
   "version": "3.7.6"
  }
 },
 "nbformat": 4,
 "nbformat_minor": 4
}
