{
 "cells": [
  {
   "cell_type": "code",
   "execution_count": 1,
   "metadata": {},
   "outputs": [],
   "source": [
    "from sympy import symbols, latex\n",
    "from sympy import diff, tanh\n",
    "import numpy as np"
   ]
  },
  {
   "cell_type": "code",
   "execution_count": 2,
   "metadata": {},
   "outputs": [
    {
     "data": {
      "text/latex": [
       "$\\displaystyle b_{2} + w_{21} \\tanh{\\left(b_{11} + w_{11} x \\right)} + w_{22} \\tanh{\\left(b_{12} + w_{12} x \\right)}$"
      ],
      "text/plain": [
       "b2 + w21*tanh(b11 + w11*x) + w22*tanh(b12 + w12*x)"
      ]
     },
     "execution_count": 2,
     "metadata": {},
     "output_type": "execute_result"
    }
   ],
   "source": [
    "x = symbols('x')\n",
    "w11, w12, w21, w22 = symbols('w11 w12 w21 w22')\n",
    "b11, b12, b2 = symbols('b11 b12 b2')\n",
    "y = w21*tanh(w11*x + b11) + w22 * tanh(w12*x + b12) + b2\n",
    "y"
   ]
  },
  {
   "cell_type": "code",
   "execution_count": 3,
   "metadata": {},
   "outputs": [
    {
     "data": {
      "text/latex": [
       "$\\displaystyle w_{11} w_{21} \\left(1 - \\tanh^{2}{\\left(b_{11} + w_{11} x \\right)}\\right) + w_{12} w_{22} \\left(1 - \\tanh^{2}{\\left(b_{12} + w_{12} x \\right)}\\right)$"
      ],
      "text/plain": [
       "w11*w21*(1 - tanh(b11 + w11*x)**2) + w12*w22*(1 - tanh(b12 + w12*x)**2)"
      ]
     },
     "execution_count": 3,
     "metadata": {},
     "output_type": "execute_result"
    }
   ],
   "source": [
    "dy_dx = diff(y, x)\n",
    "dy_dx"
   ]
  },
  {
   "cell_type": "code",
   "execution_count": 4,
   "metadata": {},
   "outputs": [
    {
     "data": {
      "text/latex": [
       "$\\displaystyle - 2 w_{11}^{2} w_{21} \\left(1 - \\tanh^{2}{\\left(b_{11} + w_{11} x \\right)}\\right) \\tanh{\\left(b_{11} + w_{11} x \\right)} - 2 w_{12}^{2} w_{22} \\left(1 - \\tanh^{2}{\\left(b_{12} + w_{12} x \\right)}\\right) \\tanh{\\left(b_{12} + w_{12} x \\right)}$"
      ],
      "text/plain": [
       "-2*w11**2*w21*(1 - tanh(b11 + w11*x)**2)*tanh(b11 + w11*x) - 2*w12**2*w22*(1 - tanh(b12 + w12*x)**2)*tanh(b12 + w12*x)"
      ]
     },
     "execution_count": 4,
     "metadata": {},
     "output_type": "execute_result"
    }
   ],
   "source": [
    "dy_dx2 = diff(dy_dx, x)\n",
    "dy_dx2\n"
   ]
  },
  {
   "cell_type": "code",
   "execution_count": 5,
   "metadata": {},
   "outputs": [
    {
     "data": {
      "text/latex": [
       "$\\displaystyle - 2 w_{11}^{3} w_{21} \\left(1 - \\tanh^{2}{\\left(b_{11} + w_{11} x \\right)}\\right)^{2} + 4 w_{11}^{3} w_{21} \\left(1 - \\tanh^{2}{\\left(b_{11} + w_{11} x \\right)}\\right) \\tanh^{2}{\\left(b_{11} + w_{11} x \\right)} - 2 w_{12}^{3} w_{22} \\left(1 - \\tanh^{2}{\\left(b_{12} + w_{12} x \\right)}\\right)^{2} + 4 w_{12}^{3} w_{22} \\left(1 - \\tanh^{2}{\\left(b_{12} + w_{12} x \\right)}\\right) \\tanh^{2}{\\left(b_{12} + w_{12} x \\right)}$"
      ],
      "text/plain": [
       "-2*w11**3*w21*(1 - tanh(b11 + w11*x)**2)**2 + 4*w11**3*w21*(1 - tanh(b11 + w11*x)**2)*tanh(b11 + w11*x)**2 - 2*w12**3*w22*(1 - tanh(b12 + w12*x)**2)**2 + 4*w12**3*w22*(1 - tanh(b12 + w12*x)**2)*tanh(b12 + w12*x)**2"
      ]
     },
     "execution_count": 5,
     "metadata": {},
     "output_type": "execute_result"
    }
   ],
   "source": [
    "dy_dx3 = diff(dy_dx2, x)\n",
    "dy_dx3\n"
   ]
  },
  {
   "cell_type": "code",
   "execution_count": 6,
   "metadata": {},
   "outputs": [
    {
     "data": {
      "text/latex": [
       "$\\displaystyle 16 w_{11}^{4} w_{21} \\left(1 - \\tanh^{2}{\\left(b_{11} + w_{11} x \\right)}\\right)^{2} \\tanh{\\left(b_{11} + w_{11} x \\right)} - 8 w_{11}^{4} w_{21} \\left(1 - \\tanh^{2}{\\left(b_{11} + w_{11} x \\right)}\\right) \\tanh^{3}{\\left(b_{11} + w_{11} x \\right)} + 16 w_{12}^{4} w_{22} \\left(1 - \\tanh^{2}{\\left(b_{12} + w_{12} x \\right)}\\right)^{2} \\tanh{\\left(b_{12} + w_{12} x \\right)} - 8 w_{12}^{4} w_{22} \\left(1 - \\tanh^{2}{\\left(b_{12} + w_{12} x \\right)}\\right) \\tanh^{3}{\\left(b_{12} + w_{12} x \\right)}$"
      ],
      "text/plain": [
       "16*w11**4*w21*(1 - tanh(b11 + w11*x)**2)**2*tanh(b11 + w11*x) - 8*w11**4*w21*(1 - tanh(b11 + w11*x)**2)*tanh(b11 + w11*x)**3 + 16*w12**4*w22*(1 - tanh(b12 + w12*x)**2)**2*tanh(b12 + w12*x) - 8*w12**4*w22*(1 - tanh(b12 + w12*x)**2)*tanh(b12 + w12*x)**3"
      ]
     },
     "execution_count": 6,
     "metadata": {},
     "output_type": "execute_result"
    }
   ],
   "source": [
    "dy_dx4 = diff(dy_dx3, x)\n",
    "dy_dx4"
   ]
  },
  {
   "cell_type": "code",
   "execution_count": 7,
   "metadata": {},
   "outputs": [
    {
     "data": {
      "text/latex": [
       "$\\displaystyle 16 w_{11}^{5} w_{21} \\left(1 - \\tanh^{2}{\\left(b_{11} + w_{11} x \\right)}\\right)^{3} - 88 w_{11}^{5} w_{21} \\left(1 - \\tanh^{2}{\\left(b_{11} + w_{11} x \\right)}\\right)^{2} \\tanh^{2}{\\left(b_{11} + w_{11} x \\right)} + 16 w_{11}^{5} w_{21} \\left(1 - \\tanh^{2}{\\left(b_{11} + w_{11} x \\right)}\\right) \\tanh^{4}{\\left(b_{11} + w_{11} x \\right)} + 16 w_{12}^{5} w_{22} \\left(1 - \\tanh^{2}{\\left(b_{12} + w_{12} x \\right)}\\right)^{3} - 88 w_{12}^{5} w_{22} \\left(1 - \\tanh^{2}{\\left(b_{12} + w_{12} x \\right)}\\right)^{2} \\tanh^{2}{\\left(b_{12} + w_{12} x \\right)} + 16 w_{12}^{5} w_{22} \\left(1 - \\tanh^{2}{\\left(b_{12} + w_{12} x \\right)}\\right) \\tanh^{4}{\\left(b_{12} + w_{12} x \\right)}$"
      ],
      "text/plain": [
       "16*w11**5*w21*(1 - tanh(b11 + w11*x)**2)**3 - 88*w11**5*w21*(1 - tanh(b11 + w11*x)**2)**2*tanh(b11 + w11*x)**2 + 16*w11**5*w21*(1 - tanh(b11 + w11*x)**2)*tanh(b11 + w11*x)**4 + 16*w12**5*w22*(1 - tanh(b12 + w12*x)**2)**3 - 88*w12**5*w22*(1 - tanh(b12 + w12*x)**2)**2*tanh(b12 + w12*x)**2 + 16*w12**5*w22*(1 - tanh(b12 + w12*x)**2)*tanh(b12 + w12*x)**4"
      ]
     },
     "execution_count": 7,
     "metadata": {},
     "output_type": "execute_result"
    }
   ],
   "source": [
    "dy_dx5 = diff(dy_dx4, x)\n",
    "dy_dx5"
   ]
  },
  {
   "cell_type": "code",
   "execution_count": 8,
   "metadata": {},
   "outputs": [
    {
     "data": {
      "text/latex": [
       "$\\displaystyle - 272 w_{11}^{6} w_{21} \\left(1 - \\tanh^{2}{\\left(b_{11} + w_{11} x \\right)}\\right)^{3} \\tanh{\\left(b_{11} + w_{11} x \\right)} + 416 w_{11}^{6} w_{21} \\left(1 - \\tanh^{2}{\\left(b_{11} + w_{11} x \\right)}\\right)^{2} \\tanh^{3}{\\left(b_{11} + w_{11} x \\right)} - 32 w_{11}^{6} w_{21} \\left(1 - \\tanh^{2}{\\left(b_{11} + w_{11} x \\right)}\\right) \\tanh^{5}{\\left(b_{11} + w_{11} x \\right)} - 272 w_{12}^{6} w_{22} \\left(1 - \\tanh^{2}{\\left(b_{12} + w_{12} x \\right)}\\right)^{3} \\tanh{\\left(b_{12} + w_{12} x \\right)} + 416 w_{12}^{6} w_{22} \\left(1 - \\tanh^{2}{\\left(b_{12} + w_{12} x \\right)}\\right)^{2} \\tanh^{3}{\\left(b_{12} + w_{12} x \\right)} - 32 w_{12}^{6} w_{22} \\left(1 - \\tanh^{2}{\\left(b_{12} + w_{12} x \\right)}\\right) \\tanh^{5}{\\left(b_{12} + w_{12} x \\right)}$"
      ],
      "text/plain": [
       "-272*w11**6*w21*(1 - tanh(b11 + w11*x)**2)**3*tanh(b11 + w11*x) + 416*w11**6*w21*(1 - tanh(b11 + w11*x)**2)**2*tanh(b11 + w11*x)**3 - 32*w11**6*w21*(1 - tanh(b11 + w11*x)**2)*tanh(b11 + w11*x)**5 - 272*w12**6*w22*(1 - tanh(b12 + w12*x)**2)**3*tanh(b12 + w12*x) + 416*w12**6*w22*(1 - tanh(b12 + w12*x)**2)**2*tanh(b12 + w12*x)**3 - 32*w12**6*w22*(1 - tanh(b12 + w12*x)**2)*tanh(b12 + w12*x)**5"
      ]
     },
     "execution_count": 8,
     "metadata": {},
     "output_type": "execute_result"
    }
   ],
   "source": [
    "dy_dx6 = diff(dy_dx5, x)\n",
    "dy_dx6"
   ]
  },
  {
   "cell_type": "code",
   "execution_count": 9,
   "metadata": {},
   "outputs": [
    {
     "data": {
      "text/latex": [
       "$\\displaystyle \\left(- 272 w_{11}^{6} w_{21} \\left(1 - \\tanh^{2}{\\left(b_{11} + w_{11} x \\right)}\\right)^{3} \\tanh{\\left(b_{11} + w_{11} x \\right)} + 416 w_{11}^{6} w_{21} \\left(1 - \\tanh^{2}{\\left(b_{11} + w_{11} x \\right)}\\right)^{2} \\tanh^{3}{\\left(b_{11} + w_{11} x \\right)} - 32 w_{11}^{6} w_{21} \\left(1 - \\tanh^{2}{\\left(b_{11} + w_{11} x \\right)}\\right) \\tanh^{5}{\\left(b_{11} + w_{11} x \\right)} - 272 w_{12}^{6} w_{22} \\left(1 - \\tanh^{2}{\\left(b_{12} + w_{12} x \\right)}\\right)^{3} \\tanh{\\left(b_{12} + w_{12} x \\right)} + 416 w_{12}^{6} w_{22} \\left(1 - \\tanh^{2}{\\left(b_{12} + w_{12} x \\right)}\\right)^{2} \\tanh^{3}{\\left(b_{12} + w_{12} x \\right)} - 32 w_{12}^{6} w_{22} \\left(1 - \\tanh^{2}{\\left(b_{12} + w_{12} x \\right)}\\right) \\tanh^{5}{\\left(b_{12} + w_{12} x \\right)}\\right)^{2}$"
      ],
      "text/plain": [
       "(-272*w11**6*w21*(1 - tanh(b11 + w11*x)**2)**3*tanh(b11 + w11*x) + 416*w11**6*w21*(1 - tanh(b11 + w11*x)**2)**2*tanh(b11 + w11*x)**3 - 32*w11**6*w21*(1 - tanh(b11 + w11*x)**2)*tanh(b11 + w11*x)**5 - 272*w12**6*w22*(1 - tanh(b12 + w12*x)**2)**3*tanh(b12 + w12*x) + 416*w12**6*w22*(1 - tanh(b12 + w12*x)**2)**2*tanh(b12 + w12*x)**3 - 32*w12**6*w22*(1 - tanh(b12 + w12*x)**2)*tanh(b12 + w12*x)**5)**2"
      ]
     },
     "execution_count": 9,
     "metadata": {},
     "output_type": "execute_result"
    }
   ],
   "source": [
    "loss = dy_dx6**2\n",
    "loss"
   ]
  },
  {
   "cell_type": "code",
   "execution_count": 10,
   "metadata": {},
   "outputs": [
    {
     "data": {
      "text/latex": [
       "$\\displaystyle \\left(- 272 w_{11}^{6} w_{21} \\left(1 - \\tanh^{2}{\\left(b_{11} + w_{11} x \\right)}\\right)^{3} \\tanh{\\left(b_{11} + w_{11} x \\right)} + 416 w_{11}^{6} w_{21} \\left(1 - \\tanh^{2}{\\left(b_{11} + w_{11} x \\right)}\\right)^{2} \\tanh^{3}{\\left(b_{11} + w_{11} x \\right)} - 32 w_{11}^{6} w_{21} \\left(1 - \\tanh^{2}{\\left(b_{11} + w_{11} x \\right)}\\right) \\tanh^{5}{\\left(b_{11} + w_{11} x \\right)} - 272 w_{12}^{6} w_{22} \\left(1 - \\tanh^{2}{\\left(b_{12} + w_{12} x \\right)}\\right)^{3} \\tanh{\\left(b_{12} + w_{12} x \\right)} + 416 w_{12}^{6} w_{22} \\left(1 - \\tanh^{2}{\\left(b_{12} + w_{12} x \\right)}\\right)^{2} \\tanh^{3}{\\left(b_{12} + w_{12} x \\right)} - 32 w_{12}^{6} w_{22} \\left(1 - \\tanh^{2}{\\left(b_{12} + w_{12} x \\right)}\\right) \\tanh^{5}{\\left(b_{12} + w_{12} x \\right)}\\right) \\left(- 544 w_{11}^{6} w_{21} x \\left(1 - \\tanh^{2}{\\left(b_{11} + w_{11} x \\right)}\\right)^{4} + 5760 w_{11}^{6} w_{21} x \\left(1 - \\tanh^{2}{\\left(b_{11} + w_{11} x \\right)}\\right)^{3} \\tanh^{2}{\\left(b_{11} + w_{11} x \\right)} - 3648 w_{11}^{6} w_{21} x \\left(1 - \\tanh^{2}{\\left(b_{11} + w_{11} x \\right)}\\right)^{2} \\tanh^{4}{\\left(b_{11} + w_{11} x \\right)} + 128 w_{11}^{6} w_{21} x \\left(1 - \\tanh^{2}{\\left(b_{11} + w_{11} x \\right)}\\right) \\tanh^{6}{\\left(b_{11} + w_{11} x \\right)} - 3264 w_{11}^{5} w_{21} \\left(1 - \\tanh^{2}{\\left(b_{11} + w_{11} x \\right)}\\right)^{3} \\tanh{\\left(b_{11} + w_{11} x \\right)} + 4992 w_{11}^{5} w_{21} \\left(1 - \\tanh^{2}{\\left(b_{11} + w_{11} x \\right)}\\right)^{2} \\tanh^{3}{\\left(b_{11} + w_{11} x \\right)} - 384 w_{11}^{5} w_{21} \\left(1 - \\tanh^{2}{\\left(b_{11} + w_{11} x \\right)}\\right) \\tanh^{5}{\\left(b_{11} + w_{11} x \\right)}\\right)$"
      ],
      "text/plain": [
       "(-272*w11**6*w21*(1 - tanh(b11 + w11*x)**2)**3*tanh(b11 + w11*x) + 416*w11**6*w21*(1 - tanh(b11 + w11*x)**2)**2*tanh(b11 + w11*x)**3 - 32*w11**6*w21*(1 - tanh(b11 + w11*x)**2)*tanh(b11 + w11*x)**5 - 272*w12**6*w22*(1 - tanh(b12 + w12*x)**2)**3*tanh(b12 + w12*x) + 416*w12**6*w22*(1 - tanh(b12 + w12*x)**2)**2*tanh(b12 + w12*x)**3 - 32*w12**6*w22*(1 - tanh(b12 + w12*x)**2)*tanh(b12 + w12*x)**5)*(-544*w11**6*w21*x*(1 - tanh(b11 + w11*x)**2)**4 + 5760*w11**6*w21*x*(1 - tanh(b11 + w11*x)**2)**3*tanh(b11 + w11*x)**2 - 3648*w11**6*w21*x*(1 - tanh(b11 + w11*x)**2)**2*tanh(b11 + w11*x)**4 + 128*w11**6*w21*x*(1 - tanh(b11 + w11*x)**2)*tanh(b11 + w11*x)**6 - 3264*w11**5*w21*(1 - tanh(b11 + w11*x)**2)**3*tanh(b11 + w11*x) + 4992*w11**5*w21*(1 - tanh(b11 + w11*x)**2)**2*tanh(b11 + w11*x)**3 - 384*w11**5*w21*(1 - tanh(b11 + w11*x)**2)*tanh(b11 + w11*x)**5)"
      ]
     },
     "execution_count": 10,
     "metadata": {},
     "output_type": "execute_result"
    }
   ],
   "source": [
    "dl_dw11 = diff(loss, w11)\n",
    "dl_dw11"
   ]
  },
  {
   "cell_type": "code",
   "execution_count": 11,
   "metadata": {},
   "outputs": [
    {
     "data": {
      "text/latex": [
       "$\\displaystyle \\left(- 272 w_{11}^{6} w_{21} \\left(1 - \\tanh^{2}{\\left(b_{11} + w_{11} x \\right)}\\right)^{3} \\tanh{\\left(b_{11} + w_{11} x \\right)} + 416 w_{11}^{6} w_{21} \\left(1 - \\tanh^{2}{\\left(b_{11} + w_{11} x \\right)}\\right)^{2} \\tanh^{3}{\\left(b_{11} + w_{11} x \\right)} - 32 w_{11}^{6} w_{21} \\left(1 - \\tanh^{2}{\\left(b_{11} + w_{11} x \\right)}\\right) \\tanh^{5}{\\left(b_{11} + w_{11} x \\right)} - 272 w_{12}^{6} w_{22} \\left(1 - \\tanh^{2}{\\left(b_{12} + w_{12} x \\right)}\\right)^{3} \\tanh{\\left(b_{12} + w_{12} x \\right)} + 416 w_{12}^{6} w_{22} \\left(1 - \\tanh^{2}{\\left(b_{12} + w_{12} x \\right)}\\right)^{2} \\tanh^{3}{\\left(b_{12} + w_{12} x \\right)} - 32 w_{12}^{6} w_{22} \\left(1 - \\tanh^{2}{\\left(b_{12} + w_{12} x \\right)}\\right) \\tanh^{5}{\\left(b_{12} + w_{12} x \\right)}\\right) \\left(- 544 w_{12}^{6} w_{22} x \\left(1 - \\tanh^{2}{\\left(b_{12} + w_{12} x \\right)}\\right)^{4} + 5760 w_{12}^{6} w_{22} x \\left(1 - \\tanh^{2}{\\left(b_{12} + w_{12} x \\right)}\\right)^{3} \\tanh^{2}{\\left(b_{12} + w_{12} x \\right)} - 3648 w_{12}^{6} w_{22} x \\left(1 - \\tanh^{2}{\\left(b_{12} + w_{12} x \\right)}\\right)^{2} \\tanh^{4}{\\left(b_{12} + w_{12} x \\right)} + 128 w_{12}^{6} w_{22} x \\left(1 - \\tanh^{2}{\\left(b_{12} + w_{12} x \\right)}\\right) \\tanh^{6}{\\left(b_{12} + w_{12} x \\right)} - 3264 w_{12}^{5} w_{22} \\left(1 - \\tanh^{2}{\\left(b_{12} + w_{12} x \\right)}\\right)^{3} \\tanh{\\left(b_{12} + w_{12} x \\right)} + 4992 w_{12}^{5} w_{22} \\left(1 - \\tanh^{2}{\\left(b_{12} + w_{12} x \\right)}\\right)^{2} \\tanh^{3}{\\left(b_{12} + w_{12} x \\right)} - 384 w_{12}^{5} w_{22} \\left(1 - \\tanh^{2}{\\left(b_{12} + w_{12} x \\right)}\\right) \\tanh^{5}{\\left(b_{12} + w_{12} x \\right)}\\right)$"
      ],
      "text/plain": [
       "(-272*w11**6*w21*(1 - tanh(b11 + w11*x)**2)**3*tanh(b11 + w11*x) + 416*w11**6*w21*(1 - tanh(b11 + w11*x)**2)**2*tanh(b11 + w11*x)**3 - 32*w11**6*w21*(1 - tanh(b11 + w11*x)**2)*tanh(b11 + w11*x)**5 - 272*w12**6*w22*(1 - tanh(b12 + w12*x)**2)**3*tanh(b12 + w12*x) + 416*w12**6*w22*(1 - tanh(b12 + w12*x)**2)**2*tanh(b12 + w12*x)**3 - 32*w12**6*w22*(1 - tanh(b12 + w12*x)**2)*tanh(b12 + w12*x)**5)*(-544*w12**6*w22*x*(1 - tanh(b12 + w12*x)**2)**4 + 5760*w12**6*w22*x*(1 - tanh(b12 + w12*x)**2)**3*tanh(b12 + w12*x)**2 - 3648*w12**6*w22*x*(1 - tanh(b12 + w12*x)**2)**2*tanh(b12 + w12*x)**4 + 128*w12**6*w22*x*(1 - tanh(b12 + w12*x)**2)*tanh(b12 + w12*x)**6 - 3264*w12**5*w22*(1 - tanh(b12 + w12*x)**2)**3*tanh(b12 + w12*x) + 4992*w12**5*w22*(1 - tanh(b12 + w12*x)**2)**2*tanh(b12 + w12*x)**3 - 384*w12**5*w22*(1 - tanh(b12 + w12*x)**2)*tanh(b12 + w12*x)**5)"
      ]
     },
     "execution_count": 11,
     "metadata": {},
     "output_type": "execute_result"
    }
   ],
   "source": [
    "dl_dw12 = diff(loss, w12)\n",
    "dl_dw12"
   ]
  },
  {
   "cell_type": "code",
   "execution_count": 12,
   "metadata": {},
   "outputs": [
    {
     "data": {
      "text/latex": [
       "$\\displaystyle \\left(- 544 w_{11}^{6} \\left(1 - \\tanh^{2}{\\left(b_{11} + w_{11} x \\right)}\\right)^{3} \\tanh{\\left(b_{11} + w_{11} x \\right)} + 832 w_{11}^{6} \\left(1 - \\tanh^{2}{\\left(b_{11} + w_{11} x \\right)}\\right)^{2} \\tanh^{3}{\\left(b_{11} + w_{11} x \\right)} - 64 w_{11}^{6} \\left(1 - \\tanh^{2}{\\left(b_{11} + w_{11} x \\right)}\\right) \\tanh^{5}{\\left(b_{11} + w_{11} x \\right)}\\right) \\left(- 272 w_{11}^{6} w_{21} \\left(1 - \\tanh^{2}{\\left(b_{11} + w_{11} x \\right)}\\right)^{3} \\tanh{\\left(b_{11} + w_{11} x \\right)} + 416 w_{11}^{6} w_{21} \\left(1 - \\tanh^{2}{\\left(b_{11} + w_{11} x \\right)}\\right)^{2} \\tanh^{3}{\\left(b_{11} + w_{11} x \\right)} - 32 w_{11}^{6} w_{21} \\left(1 - \\tanh^{2}{\\left(b_{11} + w_{11} x \\right)}\\right) \\tanh^{5}{\\left(b_{11} + w_{11} x \\right)} - 272 w_{12}^{6} w_{22} \\left(1 - \\tanh^{2}{\\left(b_{12} + w_{12} x \\right)}\\right)^{3} \\tanh{\\left(b_{12} + w_{12} x \\right)} + 416 w_{12}^{6} w_{22} \\left(1 - \\tanh^{2}{\\left(b_{12} + w_{12} x \\right)}\\right)^{2} \\tanh^{3}{\\left(b_{12} + w_{12} x \\right)} - 32 w_{12}^{6} w_{22} \\left(1 - \\tanh^{2}{\\left(b_{12} + w_{12} x \\right)}\\right) \\tanh^{5}{\\left(b_{12} + w_{12} x \\right)}\\right)$"
      ],
      "text/plain": [
       "(-544*w11**6*(1 - tanh(b11 + w11*x)**2)**3*tanh(b11 + w11*x) + 832*w11**6*(1 - tanh(b11 + w11*x)**2)**2*tanh(b11 + w11*x)**3 - 64*w11**6*(1 - tanh(b11 + w11*x)**2)*tanh(b11 + w11*x)**5)*(-272*w11**6*w21*(1 - tanh(b11 + w11*x)**2)**3*tanh(b11 + w11*x) + 416*w11**6*w21*(1 - tanh(b11 + w11*x)**2)**2*tanh(b11 + w11*x)**3 - 32*w11**6*w21*(1 - tanh(b11 + w11*x)**2)*tanh(b11 + w11*x)**5 - 272*w12**6*w22*(1 - tanh(b12 + w12*x)**2)**3*tanh(b12 + w12*x) + 416*w12**6*w22*(1 - tanh(b12 + w12*x)**2)**2*tanh(b12 + w12*x)**3 - 32*w12**6*w22*(1 - tanh(b12 + w12*x)**2)*tanh(b12 + w12*x)**5)"
      ]
     },
     "execution_count": 12,
     "metadata": {},
     "output_type": "execute_result"
    }
   ],
   "source": [
    "dl_dw21 = diff(loss, w21)\n",
    "dl_dw21"
   ]
  },
  {
   "cell_type": "code",
   "execution_count": 13,
   "metadata": {},
   "outputs": [
    {
     "data": {
      "text/latex": [
       "$\\displaystyle \\left(- 544 w_{12}^{6} \\left(1 - \\tanh^{2}{\\left(b_{12} + w_{12} x \\right)}\\right)^{3} \\tanh{\\left(b_{12} + w_{12} x \\right)} + 832 w_{12}^{6} \\left(1 - \\tanh^{2}{\\left(b_{12} + w_{12} x \\right)}\\right)^{2} \\tanh^{3}{\\left(b_{12} + w_{12} x \\right)} - 64 w_{12}^{6} \\left(1 - \\tanh^{2}{\\left(b_{12} + w_{12} x \\right)}\\right) \\tanh^{5}{\\left(b_{12} + w_{12} x \\right)}\\right) \\left(- 272 w_{11}^{6} w_{21} \\left(1 - \\tanh^{2}{\\left(b_{11} + w_{11} x \\right)}\\right)^{3} \\tanh{\\left(b_{11} + w_{11} x \\right)} + 416 w_{11}^{6} w_{21} \\left(1 - \\tanh^{2}{\\left(b_{11} + w_{11} x \\right)}\\right)^{2} \\tanh^{3}{\\left(b_{11} + w_{11} x \\right)} - 32 w_{11}^{6} w_{21} \\left(1 - \\tanh^{2}{\\left(b_{11} + w_{11} x \\right)}\\right) \\tanh^{5}{\\left(b_{11} + w_{11} x \\right)} - 272 w_{12}^{6} w_{22} \\left(1 - \\tanh^{2}{\\left(b_{12} + w_{12} x \\right)}\\right)^{3} \\tanh{\\left(b_{12} + w_{12} x \\right)} + 416 w_{12}^{6} w_{22} \\left(1 - \\tanh^{2}{\\left(b_{12} + w_{12} x \\right)}\\right)^{2} \\tanh^{3}{\\left(b_{12} + w_{12} x \\right)} - 32 w_{12}^{6} w_{22} \\left(1 - \\tanh^{2}{\\left(b_{12} + w_{12} x \\right)}\\right) \\tanh^{5}{\\left(b_{12} + w_{12} x \\right)}\\right)$"
      ],
      "text/plain": [
       "(-544*w12**6*(1 - tanh(b12 + w12*x)**2)**3*tanh(b12 + w12*x) + 832*w12**6*(1 - tanh(b12 + w12*x)**2)**2*tanh(b12 + w12*x)**3 - 64*w12**6*(1 - tanh(b12 + w12*x)**2)*tanh(b12 + w12*x)**5)*(-272*w11**6*w21*(1 - tanh(b11 + w11*x)**2)**3*tanh(b11 + w11*x) + 416*w11**6*w21*(1 - tanh(b11 + w11*x)**2)**2*tanh(b11 + w11*x)**3 - 32*w11**6*w21*(1 - tanh(b11 + w11*x)**2)*tanh(b11 + w11*x)**5 - 272*w12**6*w22*(1 - tanh(b12 + w12*x)**2)**3*tanh(b12 + w12*x) + 416*w12**6*w22*(1 - tanh(b12 + w12*x)**2)**2*tanh(b12 + w12*x)**3 - 32*w12**6*w22*(1 - tanh(b12 + w12*x)**2)*tanh(b12 + w12*x)**5)"
      ]
     },
     "execution_count": 13,
     "metadata": {},
     "output_type": "execute_result"
    }
   ],
   "source": [
    "dl_dw22 = diff(loss, w22)\n",
    "dl_dw22"
   ]
  },
  {
   "cell_type": "code",
   "execution_count": 14,
   "metadata": {},
   "outputs": [
    {
     "data": {
      "text/latex": [
       "$\\displaystyle \\left(- 544 w_{11}^{6} w_{21} \\left(1 - \\tanh^{2}{\\left(b_{11} + w_{11} x \\right)}\\right)^{4} + 1632 w_{11}^{6} w_{21} \\left(1 - \\tanh^{2}{\\left(b_{11} + w_{11} x \\right)}\\right)^{2} \\left(2 - 2 \\tanh^{2}{\\left(b_{11} + w_{11} x \\right)}\\right) \\tanh^{2}{\\left(b_{11} + w_{11} x \\right)} + 832 w_{11}^{6} w_{21} \\left(1 - \\tanh^{2}{\\left(b_{11} + w_{11} x \\right)}\\right)^{2} \\left(3 - 3 \\tanh^{2}{\\left(b_{11} + w_{11} x \\right)}\\right) \\tanh^{2}{\\left(b_{11} + w_{11} x \\right)} - 1664 w_{11}^{6} w_{21} \\left(1 - \\tanh^{2}{\\left(b_{11} + w_{11} x \\right)}\\right) \\left(2 - 2 \\tanh^{2}{\\left(b_{11} + w_{11} x \\right)}\\right) \\tanh^{4}{\\left(b_{11} + w_{11} x \\right)} - 64 w_{11}^{6} w_{21} \\left(1 - \\tanh^{2}{\\left(b_{11} + w_{11} x \\right)}\\right) \\left(5 - 5 \\tanh^{2}{\\left(b_{11} + w_{11} x \\right)}\\right) \\tanh^{4}{\\left(b_{11} + w_{11} x \\right)} + 64 w_{11}^{6} w_{21} \\left(2 - 2 \\tanh^{2}{\\left(b_{11} + w_{11} x \\right)}\\right) \\tanh^{6}{\\left(b_{11} + w_{11} x \\right)}\\right) \\left(- 272 w_{11}^{6} w_{21} \\left(1 - \\tanh^{2}{\\left(b_{11} + w_{11} x \\right)}\\right)^{3} \\tanh{\\left(b_{11} + w_{11} x \\right)} + 416 w_{11}^{6} w_{21} \\left(1 - \\tanh^{2}{\\left(b_{11} + w_{11} x \\right)}\\right)^{2} \\tanh^{3}{\\left(b_{11} + w_{11} x \\right)} - 32 w_{11}^{6} w_{21} \\left(1 - \\tanh^{2}{\\left(b_{11} + w_{11} x \\right)}\\right) \\tanh^{5}{\\left(b_{11} + w_{11} x \\right)} - 272 w_{12}^{6} w_{22} \\left(1 - \\tanh^{2}{\\left(b_{12} + w_{12} x \\right)}\\right)^{3} \\tanh{\\left(b_{12} + w_{12} x \\right)} + 416 w_{12}^{6} w_{22} \\left(1 - \\tanh^{2}{\\left(b_{12} + w_{12} x \\right)}\\right)^{2} \\tanh^{3}{\\left(b_{12} + w_{12} x \\right)} - 32 w_{12}^{6} w_{22} \\left(1 - \\tanh^{2}{\\left(b_{12} + w_{12} x \\right)}\\right) \\tanh^{5}{\\left(b_{12} + w_{12} x \\right)}\\right)$"
      ],
      "text/plain": [
       "(-544*w11**6*w21*(1 - tanh(b11 + w11*x)**2)**4 + 1632*w11**6*w21*(1 - tanh(b11 + w11*x)**2)**2*(2 - 2*tanh(b11 + w11*x)**2)*tanh(b11 + w11*x)**2 + 832*w11**6*w21*(1 - tanh(b11 + w11*x)**2)**2*(3 - 3*tanh(b11 + w11*x)**2)*tanh(b11 + w11*x)**2 - 1664*w11**6*w21*(1 - tanh(b11 + w11*x)**2)*(2 - 2*tanh(b11 + w11*x)**2)*tanh(b11 + w11*x)**4 - 64*w11**6*w21*(1 - tanh(b11 + w11*x)**2)*(5 - 5*tanh(b11 + w11*x)**2)*tanh(b11 + w11*x)**4 + 64*w11**6*w21*(2 - 2*tanh(b11 + w11*x)**2)*tanh(b11 + w11*x)**6)*(-272*w11**6*w21*(1 - tanh(b11 + w11*x)**2)**3*tanh(b11 + w11*x) + 416*w11**6*w21*(1 - tanh(b11 + w11*x)**2)**2*tanh(b11 + w11*x)**3 - 32*w11**6*w21*(1 - tanh(b11 + w11*x)**2)*tanh(b11 + w11*x)**5 - 272*w12**6*w22*(1 - tanh(b12 + w12*x)**2)**3*tanh(b12 + w12*x) + 416*w12**6*w22*(1 - tanh(b12 + w12*x)**2)**2*tanh(b12 + w12*x)**3 - 32*w12**6*w22*(1 - tanh(b12 + w12*x)**2)*tanh(b12 + w12*x)**5)"
      ]
     },
     "execution_count": 14,
     "metadata": {},
     "output_type": "execute_result"
    }
   ],
   "source": [
    "dl_db11 = diff(loss, b11)\n",
    "dl_db11"
   ]
  },
  {
   "cell_type": "code",
   "execution_count": 15,
   "metadata": {},
   "outputs": [
    {
     "data": {
      "text/latex": [
       "$\\displaystyle \\left(- 544 w_{12}^{6} w_{22} \\left(1 - \\tanh^{2}{\\left(b_{12} + w_{12} x \\right)}\\right)^{4} + 1632 w_{12}^{6} w_{22} \\left(1 - \\tanh^{2}{\\left(b_{12} + w_{12} x \\right)}\\right)^{2} \\left(2 - 2 \\tanh^{2}{\\left(b_{12} + w_{12} x \\right)}\\right) \\tanh^{2}{\\left(b_{12} + w_{12} x \\right)} + 832 w_{12}^{6} w_{22} \\left(1 - \\tanh^{2}{\\left(b_{12} + w_{12} x \\right)}\\right)^{2} \\left(3 - 3 \\tanh^{2}{\\left(b_{12} + w_{12} x \\right)}\\right) \\tanh^{2}{\\left(b_{12} + w_{12} x \\right)} - 1664 w_{12}^{6} w_{22} \\left(1 - \\tanh^{2}{\\left(b_{12} + w_{12} x \\right)}\\right) \\left(2 - 2 \\tanh^{2}{\\left(b_{12} + w_{12} x \\right)}\\right) \\tanh^{4}{\\left(b_{12} + w_{12} x \\right)} - 64 w_{12}^{6} w_{22} \\left(1 - \\tanh^{2}{\\left(b_{12} + w_{12} x \\right)}\\right) \\left(5 - 5 \\tanh^{2}{\\left(b_{12} + w_{12} x \\right)}\\right) \\tanh^{4}{\\left(b_{12} + w_{12} x \\right)} + 64 w_{12}^{6} w_{22} \\left(2 - 2 \\tanh^{2}{\\left(b_{12} + w_{12} x \\right)}\\right) \\tanh^{6}{\\left(b_{12} + w_{12} x \\right)}\\right) \\left(- 272 w_{11}^{6} w_{21} \\left(1 - \\tanh^{2}{\\left(b_{11} + w_{11} x \\right)}\\right)^{3} \\tanh{\\left(b_{11} + w_{11} x \\right)} + 416 w_{11}^{6} w_{21} \\left(1 - \\tanh^{2}{\\left(b_{11} + w_{11} x \\right)}\\right)^{2} \\tanh^{3}{\\left(b_{11} + w_{11} x \\right)} - 32 w_{11}^{6} w_{21} \\left(1 - \\tanh^{2}{\\left(b_{11} + w_{11} x \\right)}\\right) \\tanh^{5}{\\left(b_{11} + w_{11} x \\right)} - 272 w_{12}^{6} w_{22} \\left(1 - \\tanh^{2}{\\left(b_{12} + w_{12} x \\right)}\\right)^{3} \\tanh{\\left(b_{12} + w_{12} x \\right)} + 416 w_{12}^{6} w_{22} \\left(1 - \\tanh^{2}{\\left(b_{12} + w_{12} x \\right)}\\right)^{2} \\tanh^{3}{\\left(b_{12} + w_{12} x \\right)} - 32 w_{12}^{6} w_{22} \\left(1 - \\tanh^{2}{\\left(b_{12} + w_{12} x \\right)}\\right) \\tanh^{5}{\\left(b_{12} + w_{12} x \\right)}\\right)$"
      ],
      "text/plain": [
       "(-544*w12**6*w22*(1 - tanh(b12 + w12*x)**2)**4 + 1632*w12**6*w22*(1 - tanh(b12 + w12*x)**2)**2*(2 - 2*tanh(b12 + w12*x)**2)*tanh(b12 + w12*x)**2 + 832*w12**6*w22*(1 - tanh(b12 + w12*x)**2)**2*(3 - 3*tanh(b12 + w12*x)**2)*tanh(b12 + w12*x)**2 - 1664*w12**6*w22*(1 - tanh(b12 + w12*x)**2)*(2 - 2*tanh(b12 + w12*x)**2)*tanh(b12 + w12*x)**4 - 64*w12**6*w22*(1 - tanh(b12 + w12*x)**2)*(5 - 5*tanh(b12 + w12*x)**2)*tanh(b12 + w12*x)**4 + 64*w12**6*w22*(2 - 2*tanh(b12 + w12*x)**2)*tanh(b12 + w12*x)**6)*(-272*w11**6*w21*(1 - tanh(b11 + w11*x)**2)**3*tanh(b11 + w11*x) + 416*w11**6*w21*(1 - tanh(b11 + w11*x)**2)**2*tanh(b11 + w11*x)**3 - 32*w11**6*w21*(1 - tanh(b11 + w11*x)**2)*tanh(b11 + w11*x)**5 - 272*w12**6*w22*(1 - tanh(b12 + w12*x)**2)**3*tanh(b12 + w12*x) + 416*w12**6*w22*(1 - tanh(b12 + w12*x)**2)**2*tanh(b12 + w12*x)**3 - 32*w12**6*w22*(1 - tanh(b12 + w12*x)**2)*tanh(b12 + w12*x)**5)"
      ]
     },
     "execution_count": 15,
     "metadata": {},
     "output_type": "execute_result"
    }
   ],
   "source": [
    "dl_db12 = diff(loss, b12)\n",
    "dl_db12"
   ]
  },
  {
   "cell_type": "code",
   "execution_count": 16,
   "metadata": {},
   "outputs": [
    {
     "data": {
      "text/latex": [
       "$\\displaystyle 0$"
      ],
      "text/plain": [
       "0"
      ]
     },
     "execution_count": 16,
     "metadata": {},
     "output_type": "execute_result"
    }
   ],
   "source": [
    "dl_db2 = diff(loss, b2)\n",
    "dl_db2"
   ]
  },
  {
   "cell_type": "code",
   "execution_count": 17,
   "metadata": {},
   "outputs": [
    {
     "name": "stdout",
     "output_type": "stream",
     "text": [
      "- - - - - - - - - - - - - - - - - - - - - - - - - - - - - - - - - - - - - - - - \n"
     ]
    }
   ],
   "source": [
    "print('- - '*20)"
   ]
  }
 ],
 "metadata": {
  "kernelspec": {
   "display_name": "Python 3",
   "language": "python",
   "name": "python3"
  },
  "language_info": {
   "codemirror_mode": {
    "name": "ipython",
    "version": 3
   },
   "file_extension": ".py",
   "mimetype": "text/x-python",
   "name": "python",
   "nbconvert_exporter": "python",
   "pygments_lexer": "ipython3",
   "version": "3.7.6"
  }
 },
 "nbformat": 4,
 "nbformat_minor": 4
}
