{
 "cells": [
  {
   "cell_type": "code",
   "execution_count": 1,
   "metadata": {},
   "outputs": [],
   "source": [
    "from sympy import symbols, latex\n",
    "from sympy import diff, tanh\n",
    "import numpy as np\n",
    "import matplotlib.pyplot as plt\n"
   ]
  },
  {
   "cell_type": "code",
   "execution_count": 2,
   "metadata": {},
   "outputs": [
    {
     "data": {
      "text/latex": [
       "$\\displaystyle b_{2} + w_{21} \\tanh{\\left(b_{11} + w_{11} x \\right)} + w_{22} \\tanh{\\left(b_{12} + w_{12} x \\right)}$"
      ],
      "text/plain": [
       "b2 + w21*tanh(b11 + w11*x) + w22*tanh(b12 + w12*x)"
      ]
     },
     "execution_count": 2,
     "metadata": {},
     "output_type": "execute_result"
    }
   ],
   "source": [
    "x = symbols('x')\n",
    "w11, w12, w21, w22 = symbols('w11 w12 w21 w22')\n",
    "b11, b12, b2 = symbols('b11 b12 b2')\n",
    "y = w21*tanh(w11*x + b11) + w22 * tanh(w12*x + b12) + b2\n",
    "y"
   ]
  },
  {
   "cell_type": "code",
   "execution_count": 4,
   "metadata": {},
   "outputs": [
    {
     "data": {
      "text/latex": [
       "$\\displaystyle w_{11} w_{21} \\left(1 - \\tanh^{2}{\\left(b_{11} + w_{11} x \\right)}\\right) + w_{12} w_{22} \\left(1 - \\tanh^{2}{\\left(b_{12} + w_{12} x \\right)}\\right)$"
      ],
      "text/plain": [
       "w11*w21*(1 - tanh(b11 + w11*x)**2) + w12*w22*(1 - tanh(b12 + w12*x)**2)"
      ]
     },
     "execution_count": 4,
     "metadata": {},
     "output_type": "execute_result"
    }
   ],
   "source": [
    "dy_dx = diff(y, x)\n",
    "dy_dx"
   ]
  },
  {
   "cell_type": "code",
   "execution_count": 6,
   "metadata": {},
   "outputs": [
    {
     "data": {
      "text/latex": [
       "$\\displaystyle - 2 w_{11}^{2} w_{21} \\left(1 - \\tanh^{2}{\\left(b_{11} + w_{11} x \\right)}\\right) \\tanh{\\left(b_{11} + w_{11} x \\right)} - 2 w_{12}^{2} w_{22} \\left(1 - \\tanh^{2}{\\left(b_{12} + w_{12} x \\right)}\\right) \\tanh{\\left(b_{12} + w_{12} x \\right)}$"
      ],
      "text/plain": [
       "-2*w11**2*w21*(1 - tanh(b11 + w11*x)**2)*tanh(b11 + w11*x) - 2*w12**2*w22*(1 - tanh(b12 + w12*x)**2)*tanh(b12 + w12*x)"
      ]
     },
     "execution_count": 6,
     "metadata": {},
     "output_type": "execute_result"
    }
   ],
   "source": [
    "dy_dx2 = diff(dy_dx, x)\n",
    "dy_dx2\n"
   ]
  },
  {
   "cell_type": "code",
   "execution_count": 8,
   "metadata": {},
   "outputs": [
    {
     "data": {
      "text/latex": [
       "$\\displaystyle - 2 w_{11}^{3} w_{21} \\left(1 - \\tanh^{2}{\\left(b_{11} + w_{11} x \\right)}\\right)^{2} + 4 w_{11}^{3} w_{21} \\left(1 - \\tanh^{2}{\\left(b_{11} + w_{11} x \\right)}\\right) \\tanh^{2}{\\left(b_{11} + w_{11} x \\right)} - 2 w_{12}^{3} w_{22} \\left(1 - \\tanh^{2}{\\left(b_{12} + w_{12} x \\right)}\\right)^{2} + 4 w_{12}^{3} w_{22} \\left(1 - \\tanh^{2}{\\left(b_{12} + w_{12} x \\right)}\\right) \\tanh^{2}{\\left(b_{12} + w_{12} x \\right)}$"
      ],
      "text/plain": [
       "-2*w11**3*w21*(1 - tanh(b11 + w11*x)**2)**2 + 4*w11**3*w21*(1 - tanh(b11 + w11*x)**2)*tanh(b11 + w11*x)**2 - 2*w12**3*w22*(1 - tanh(b12 + w12*x)**2)**2 + 4*w12**3*w22*(1 - tanh(b12 + w12*x)**2)*tanh(b12 + w12*x)**2"
      ]
     },
     "execution_count": 8,
     "metadata": {},
     "output_type": "execute_result"
    }
   ],
   "source": [
    "dy_dx3 = diff(dy_dx2, x)\n",
    "dy_dx3\n"
   ]
  },
  {
   "cell_type": "code",
   "execution_count": 7,
   "metadata": {},
   "outputs": [
    {
     "data": {
      "text/latex": [
       "$\\displaystyle 16 w_{11}^{4} w_{21} \\left(1 - \\tanh^{2}{\\left(b_{11} + w_{11} x \\right)}\\right)^{2} \\tanh{\\left(b_{11} + w_{11} x \\right)} - 8 w_{11}^{4} w_{21} \\left(1 - \\tanh^{2}{\\left(b_{11} + w_{11} x \\right)}\\right) \\tanh^{3}{\\left(b_{11} + w_{11} x \\right)} + 16 w_{12}^{4} w_{22} \\left(1 - \\tanh^{2}{\\left(b_{12} + w_{12} x \\right)}\\right)^{2} \\tanh{\\left(b_{12} + w_{12} x \\right)} - 8 w_{12}^{4} w_{22} \\left(1 - \\tanh^{2}{\\left(b_{12} + w_{12} x \\right)}\\right) \\tanh^{3}{\\left(b_{12} + w_{12} x \\right)}$"
      ],
      "text/plain": [
       "16*w11**4*w21*(1 - tanh(b11 + w11*x)**2)**2*tanh(b11 + w11*x) - 8*w11**4*w21*(1 - tanh(b11 + w11*x)**2)*tanh(b11 + w11*x)**3 + 16*w12**4*w22*(1 - tanh(b12 + w12*x)**2)**2*tanh(b12 + w12*x) - 8*w12**4*w22*(1 - tanh(b12 + w12*x)**2)*tanh(b12 + w12*x)**3"
      ]
     },
     "execution_count": 7,
     "metadata": {},
     "output_type": "execute_result"
    }
   ],
   "source": [
    "dy_dx4 = diff(dy_dx3, x)\n",
    "dy_dx4"
   ]
  },
  {
   "cell_type": "code",
   "execution_count": 8,
   "metadata": {},
   "outputs": [
    {
     "data": {
      "text/latex": [
       "$\\displaystyle 16 w_{11}^{5} w_{21} \\left(1 - \\tanh^{2}{\\left(b_{11} + w_{11} x \\right)}\\right)^{3} - 88 w_{11}^{5} w_{21} \\left(1 - \\tanh^{2}{\\left(b_{11} + w_{11} x \\right)}\\right)^{2} \\tanh^{2}{\\left(b_{11} + w_{11} x \\right)} + 16 w_{11}^{5} w_{21} \\left(1 - \\tanh^{2}{\\left(b_{11} + w_{11} x \\right)}\\right) \\tanh^{4}{\\left(b_{11} + w_{11} x \\right)} + 16 w_{12}^{5} w_{22} \\left(1 - \\tanh^{2}{\\left(b_{12} + w_{12} x \\right)}\\right)^{3} - 88 w_{12}^{5} w_{22} \\left(1 - \\tanh^{2}{\\left(b_{12} + w_{12} x \\right)}\\right)^{2} \\tanh^{2}{\\left(b_{12} + w_{12} x \\right)} + 16 w_{12}^{5} w_{22} \\left(1 - \\tanh^{2}{\\left(b_{12} + w_{12} x \\right)}\\right) \\tanh^{4}{\\left(b_{12} + w_{12} x \\right)}$"
      ],
      "text/plain": [
       "16*w11**5*w21*(1 - tanh(b11 + w11*x)**2)**3 - 88*w11**5*w21*(1 - tanh(b11 + w11*x)**2)**2*tanh(b11 + w11*x)**2 + 16*w11**5*w21*(1 - tanh(b11 + w11*x)**2)*tanh(b11 + w11*x)**4 + 16*w12**5*w22*(1 - tanh(b12 + w12*x)**2)**3 - 88*w12**5*w22*(1 - tanh(b12 + w12*x)**2)**2*tanh(b12 + w12*x)**2 + 16*w12**5*w22*(1 - tanh(b12 + w12*x)**2)*tanh(b12 + w12*x)**4"
      ]
     },
     "execution_count": 8,
     "metadata": {},
     "output_type": "execute_result"
    }
   ],
   "source": [
    "dy_dx5 = diff(dy_dx4, x)\n",
    "dy_dx5"
   ]
  },
  {
   "cell_type": "code",
   "execution_count": 9,
   "metadata": {},
   "outputs": [
    {
     "data": {
      "text/latex": [
       "$\\displaystyle - 272 w_{11}^{6} w_{21} \\left(1 - \\tanh^{2}{\\left(b_{11} + w_{11} x \\right)}\\right)^{3} \\tanh{\\left(b_{11} + w_{11} x \\right)} + 416 w_{11}^{6} w_{21} \\left(1 - \\tanh^{2}{\\left(b_{11} + w_{11} x \\right)}\\right)^{2} \\tanh^{3}{\\left(b_{11} + w_{11} x \\right)} - 32 w_{11}^{6} w_{21} \\left(1 - \\tanh^{2}{\\left(b_{11} + w_{11} x \\right)}\\right) \\tanh^{5}{\\left(b_{11} + w_{11} x \\right)} - 272 w_{12}^{6} w_{22} \\left(1 - \\tanh^{2}{\\left(b_{12} + w_{12} x \\right)}\\right)^{3} \\tanh{\\left(b_{12} + w_{12} x \\right)} + 416 w_{12}^{6} w_{22} \\left(1 - \\tanh^{2}{\\left(b_{12} + w_{12} x \\right)}\\right)^{2} \\tanh^{3}{\\left(b_{12} + w_{12} x \\right)} - 32 w_{12}^{6} w_{22} \\left(1 - \\tanh^{2}{\\left(b_{12} + w_{12} x \\right)}\\right) \\tanh^{5}{\\left(b_{12} + w_{12} x \\right)}$"
      ],
      "text/plain": [
       "-272*w11**6*w21*(1 - tanh(b11 + w11*x)**2)**3*tanh(b11 + w11*x) + 416*w11**6*w21*(1 - tanh(b11 + w11*x)**2)**2*tanh(b11 + w11*x)**3 - 32*w11**6*w21*(1 - tanh(b11 + w11*x)**2)*tanh(b11 + w11*x)**5 - 272*w12**6*w22*(1 - tanh(b12 + w12*x)**2)**3*tanh(b12 + w12*x) + 416*w12**6*w22*(1 - tanh(b12 + w12*x)**2)**2*tanh(b12 + w12*x)**3 - 32*w12**6*w22*(1 - tanh(b12 + w12*x)**2)*tanh(b12 + w12*x)**5"
      ]
     },
     "execution_count": 9,
     "metadata": {},
     "output_type": "execute_result"
    }
   ],
   "source": [
    "dy_dx6 = diff(dy_dx5, x)\n",
    "dy_dx6"
   ]
  },
  {
   "cell_type": "code",
   "execution_count": 10,
   "metadata": {},
   "outputs": [
    {
     "data": {
      "text/latex": [
       "$\\displaystyle \\left(- 272 w_{11}^{6} w_{21} \\left(1 - \\tanh^{2}{\\left(b_{11} + w_{11} x \\right)}\\right)^{3} \\tanh{\\left(b_{11} + w_{11} x \\right)} + 416 w_{11}^{6} w_{21} \\left(1 - \\tanh^{2}{\\left(b_{11} + w_{11} x \\right)}\\right)^{2} \\tanh^{3}{\\left(b_{11} + w_{11} x \\right)} - 32 w_{11}^{6} w_{21} \\left(1 - \\tanh^{2}{\\left(b_{11} + w_{11} x \\right)}\\right) \\tanh^{5}{\\left(b_{11} + w_{11} x \\right)} - 272 w_{12}^{6} w_{22} \\left(1 - \\tanh^{2}{\\left(b_{12} + w_{12} x \\right)}\\right)^{3} \\tanh{\\left(b_{12} + w_{12} x \\right)} + 416 w_{12}^{6} w_{22} \\left(1 - \\tanh^{2}{\\left(b_{12} + w_{12} x \\right)}\\right)^{2} \\tanh^{3}{\\left(b_{12} + w_{12} x \\right)} - 32 w_{12}^{6} w_{22} \\left(1 - \\tanh^{2}{\\left(b_{12} + w_{12} x \\right)}\\right) \\tanh^{5}{\\left(b_{12} + w_{12} x \\right)}\\right)^{2}$"
      ],
      "text/plain": [
       "(-272*w11**6*w21*(1 - tanh(b11 + w11*x)**2)**3*tanh(b11 + w11*x) + 416*w11**6*w21*(1 - tanh(b11 + w11*x)**2)**2*tanh(b11 + w11*x)**3 - 32*w11**6*w21*(1 - tanh(b11 + w11*x)**2)*tanh(b11 + w11*x)**5 - 272*w12**6*w22*(1 - tanh(b12 + w12*x)**2)**3*tanh(b12 + w12*x) + 416*w12**6*w22*(1 - tanh(b12 + w12*x)**2)**2*tanh(b12 + w12*x)**3 - 32*w12**6*w22*(1 - tanh(b12 + w12*x)**2)*tanh(b12 + w12*x)**5)**2"
      ]
     },
     "execution_count": 10,
     "metadata": {},
     "output_type": "execute_result"
    }
   ],
   "source": [
    "loss = dy_dx6**2\n",
    "loss"
   ]
  },
  {
   "cell_type": "code",
   "execution_count": 11,
   "metadata": {},
   "outputs": [
    {
     "data": {
      "text/latex": [
       "$\\displaystyle \\left(- 272 w_{11}^{6} w_{21} \\left(1 - \\tanh^{2}{\\left(b_{11} + w_{11} x \\right)}\\right)^{3} \\tanh{\\left(b_{11} + w_{11} x \\right)} + 416 w_{11}^{6} w_{21} \\left(1 - \\tanh^{2}{\\left(b_{11} + w_{11} x \\right)}\\right)^{2} \\tanh^{3}{\\left(b_{11} + w_{11} x \\right)} - 32 w_{11}^{6} w_{21} \\left(1 - \\tanh^{2}{\\left(b_{11} + w_{11} x \\right)}\\right) \\tanh^{5}{\\left(b_{11} + w_{11} x \\right)} - 272 w_{12}^{6} w_{22} \\left(1 - \\tanh^{2}{\\left(b_{12} + w_{12} x \\right)}\\right)^{3} \\tanh{\\left(b_{12} + w_{12} x \\right)} + 416 w_{12}^{6} w_{22} \\left(1 - \\tanh^{2}{\\left(b_{12} + w_{12} x \\right)}\\right)^{2} \\tanh^{3}{\\left(b_{12} + w_{12} x \\right)} - 32 w_{12}^{6} w_{22} \\left(1 - \\tanh^{2}{\\left(b_{12} + w_{12} x \\right)}\\right) \\tanh^{5}{\\left(b_{12} + w_{12} x \\right)}\\right) \\left(- 544 w_{11}^{6} w_{21} x \\left(1 - \\tanh^{2}{\\left(b_{11} + w_{11} x \\right)}\\right)^{4} + 5760 w_{11}^{6} w_{21} x \\left(1 - \\tanh^{2}{\\left(b_{11} + w_{11} x \\right)}\\right)^{3} \\tanh^{2}{\\left(b_{11} + w_{11} x \\right)} - 3648 w_{11}^{6} w_{21} x \\left(1 - \\tanh^{2}{\\left(b_{11} + w_{11} x \\right)}\\right)^{2} \\tanh^{4}{\\left(b_{11} + w_{11} x \\right)} + 128 w_{11}^{6} w_{21} x \\left(1 - \\tanh^{2}{\\left(b_{11} + w_{11} x \\right)}\\right) \\tanh^{6}{\\left(b_{11} + w_{11} x \\right)} - 3264 w_{11}^{5} w_{21} \\left(1 - \\tanh^{2}{\\left(b_{11} + w_{11} x \\right)}\\right)^{3} \\tanh{\\left(b_{11} + w_{11} x \\right)} + 4992 w_{11}^{5} w_{21} \\left(1 - \\tanh^{2}{\\left(b_{11} + w_{11} x \\right)}\\right)^{2} \\tanh^{3}{\\left(b_{11} + w_{11} x \\right)} - 384 w_{11}^{5} w_{21} \\left(1 - \\tanh^{2}{\\left(b_{11} + w_{11} x \\right)}\\right) \\tanh^{5}{\\left(b_{11} + w_{11} x \\right)}\\right)$"
      ],
      "text/plain": [
       "(-272*w11**6*w21*(1 - tanh(b11 + w11*x)**2)**3*tanh(b11 + w11*x) + 416*w11**6*w21*(1 - tanh(b11 + w11*x)**2)**2*tanh(b11 + w11*x)**3 - 32*w11**6*w21*(1 - tanh(b11 + w11*x)**2)*tanh(b11 + w11*x)**5 - 272*w12**6*w22*(1 - tanh(b12 + w12*x)**2)**3*tanh(b12 + w12*x) + 416*w12**6*w22*(1 - tanh(b12 + w12*x)**2)**2*tanh(b12 + w12*x)**3 - 32*w12**6*w22*(1 - tanh(b12 + w12*x)**2)*tanh(b12 + w12*x)**5)*(-544*w11**6*w21*x*(1 - tanh(b11 + w11*x)**2)**4 + 5760*w11**6*w21*x*(1 - tanh(b11 + w11*x)**2)**3*tanh(b11 + w11*x)**2 - 3648*w11**6*w21*x*(1 - tanh(b11 + w11*x)**2)**2*tanh(b11 + w11*x)**4 + 128*w11**6*w21*x*(1 - tanh(b11 + w11*x)**2)*tanh(b11 + w11*x)**6 - 3264*w11**5*w21*(1 - tanh(b11 + w11*x)**2)**3*tanh(b11 + w11*x) + 4992*w11**5*w21*(1 - tanh(b11 + w11*x)**2)**2*tanh(b11 + w11*x)**3 - 384*w11**5*w21*(1 - tanh(b11 + w11*x)**2)*tanh(b11 + w11*x)**5)"
      ]
     },
     "execution_count": 11,
     "metadata": {},
     "output_type": "execute_result"
    }
   ],
   "source": [
    "dl_dw11 = diff(loss, w11)\n",
    "dl_dw11"
   ]
  },
  {
   "cell_type": "code",
   "execution_count": 12,
   "metadata": {},
   "outputs": [
    {
     "name": "stdout",
     "output_type": "stream",
     "text": [
      "(-272*w11**6*w21*(1 - tanh(b11 + w11*x)**2)**3*tanh(b11 + w11*x) + 416*w11**6*w21*(1 - tanh(b11 + w11*x)**2)**2*tanh(b11 + w11*x)**3 - 32*w11**6*w21*(1 - tanh(b11 + w11*x)**2)*tanh(b11 + w11*x)**5 - 272*w12**6*w22*(1 - tanh(b12 + w12*x)**2)**3*tanh(b12 + w12*x) + 416*w12**6*w22*(1 - tanh(b12 + w12*x)**2)**2*tanh(b12 + w12*x)**3 - 32*w12**6*w22*(1 - tanh(b12 + w12*x)**2)*tanh(b12 + w12*x)**5)*(-544*w11**6*w21*x*(1 - tanh(b11 + w11*x)**2)**4 + 5760*w11**6*w21*x*(1 - tanh(b11 + w11*x)**2)**3*tanh(b11 + w11*x)**2 - 3648*w11**6*w21*x*(1 - tanh(b11 + w11*x)**2)**2*tanh(b11 + w11*x)**4 + 128*w11**6*w21*x*(1 - tanh(b11 + w11*x)**2)*tanh(b11 + w11*x)**6 - 3264*w11**5*w21*(1 - tanh(b11 + w11*x)**2)**3*tanh(b11 + w11*x) + 4992*w11**5*w21*(1 - tanh(b11 + w11*x)**2)**2*tanh(b11 + w11*x)**3 - 384*w11**5*w21*(1 - tanh(b11 + w11*x)**2)*tanh(b11 + w11*x)**5)\n"
     ]
    }
   ],
   "source": [
    "print(dl_dw11)"
   ]
  },
  {
   "cell_type": "code",
   "execution_count": 11,
   "metadata": {},
   "outputs": [
    {
     "data": {
      "text/latex": [
       "$\\displaystyle \\left(16 w_{11}^{4} w_{21} \\left(1 - \\tanh^{2}{\\left(b_{11} + w_{11} x \\right)}\\right)^{2} \\tanh{\\left(b_{11} + w_{11} x \\right)} - 8 w_{11}^{4} w_{21} \\left(1 - \\tanh^{2}{\\left(b_{11} + w_{11} x \\right)}\\right) \\tanh^{3}{\\left(b_{11} + w_{11} x \\right)} + 16 w_{12}^{4} w_{22} \\left(1 - \\tanh^{2}{\\left(b_{12} + w_{12} x \\right)}\\right)^{2} \\tanh{\\left(b_{12} + w_{12} x \\right)} - 8 w_{12}^{4} w_{22} \\left(1 - \\tanh^{2}{\\left(b_{12} + w_{12} x \\right)}\\right) \\tanh^{3}{\\left(b_{12} + w_{12} x \\right)}\\right) \\left(32 w_{12}^{4} w_{22} x \\left(1 - \\tanh^{2}{\\left(b_{12} + w_{12} x \\right)}\\right)^{3} - 176 w_{12}^{4} w_{22} x \\left(1 - \\tanh^{2}{\\left(b_{12} + w_{12} x \\right)}\\right)^{2} \\tanh^{2}{\\left(b_{12} + w_{12} x \\right)} + 32 w_{12}^{4} w_{22} x \\left(1 - \\tanh^{2}{\\left(b_{12} + w_{12} x \\right)}\\right) \\tanh^{4}{\\left(b_{12} + w_{12} x \\right)} + 128 w_{12}^{3} w_{22} \\left(1 - \\tanh^{2}{\\left(b_{12} + w_{12} x \\right)}\\right)^{2} \\tanh{\\left(b_{12} + w_{12} x \\right)} - 64 w_{12}^{3} w_{22} \\left(1 - \\tanh^{2}{\\left(b_{12} + w_{12} x \\right)}\\right) \\tanh^{3}{\\left(b_{12} + w_{12} x \\right)}\\right)$"
      ],
      "text/plain": [
       "(16*w11**4*w21*(1 - tanh(b11 + w11*x)**2)**2*tanh(b11 + w11*x) - 8*w11**4*w21*(1 - tanh(b11 + w11*x)**2)*tanh(b11 + w11*x)**3 + 16*w12**4*w22*(1 - tanh(b12 + w12*x)**2)**2*tanh(b12 + w12*x) - 8*w12**4*w22*(1 - tanh(b12 + w12*x)**2)*tanh(b12 + w12*x)**3)*(32*w12**4*w22*x*(1 - tanh(b12 + w12*x)**2)**3 - 176*w12**4*w22*x*(1 - tanh(b12 + w12*x)**2)**2*tanh(b12 + w12*x)**2 + 32*w12**4*w22*x*(1 - tanh(b12 + w12*x)**2)*tanh(b12 + w12*x)**4 + 128*w12**3*w22*(1 - tanh(b12 + w12*x)**2)**2*tanh(b12 + w12*x) - 64*w12**3*w22*(1 - tanh(b12 + w12*x)**2)*tanh(b12 + w12*x)**3)"
      ]
     },
     "execution_count": 11,
     "metadata": {},
     "output_type": "execute_result"
    }
   ],
   "source": [
    "dl_dw12 = diff(loss, w12)\n",
    "dl_dw12"
   ]
  },
  {
   "cell_type": "code",
   "execution_count": 12,
   "metadata": {},
   "outputs": [
    {
     "data": {
      "text/latex": [
       "$\\displaystyle \\left(32 w_{11}^{4} \\left(1 - \\tanh^{2}{\\left(b_{11} + w_{11} x \\right)}\\right)^{2} \\tanh{\\left(b_{11} + w_{11} x \\right)} - 16 w_{11}^{4} \\left(1 - \\tanh^{2}{\\left(b_{11} + w_{11} x \\right)}\\right) \\tanh^{3}{\\left(b_{11} + w_{11} x \\right)}\\right) \\left(16 w_{11}^{4} w_{21} \\left(1 - \\tanh^{2}{\\left(b_{11} + w_{11} x \\right)}\\right)^{2} \\tanh{\\left(b_{11} + w_{11} x \\right)} - 8 w_{11}^{4} w_{21} \\left(1 - \\tanh^{2}{\\left(b_{11} + w_{11} x \\right)}\\right) \\tanh^{3}{\\left(b_{11} + w_{11} x \\right)} + 16 w_{12}^{4} w_{22} \\left(1 - \\tanh^{2}{\\left(b_{12} + w_{12} x \\right)}\\right)^{2} \\tanh{\\left(b_{12} + w_{12} x \\right)} - 8 w_{12}^{4} w_{22} \\left(1 - \\tanh^{2}{\\left(b_{12} + w_{12} x \\right)}\\right) \\tanh^{3}{\\left(b_{12} + w_{12} x \\right)}\\right)$"
      ],
      "text/plain": [
       "(32*w11**4*(1 - tanh(b11 + w11*x)**2)**2*tanh(b11 + w11*x) - 16*w11**4*(1 - tanh(b11 + w11*x)**2)*tanh(b11 + w11*x)**3)*(16*w11**4*w21*(1 - tanh(b11 + w11*x)**2)**2*tanh(b11 + w11*x) - 8*w11**4*w21*(1 - tanh(b11 + w11*x)**2)*tanh(b11 + w11*x)**3 + 16*w12**4*w22*(1 - tanh(b12 + w12*x)**2)**2*tanh(b12 + w12*x) - 8*w12**4*w22*(1 - tanh(b12 + w12*x)**2)*tanh(b12 + w12*x)**3)"
      ]
     },
     "execution_count": 12,
     "metadata": {},
     "output_type": "execute_result"
    }
   ],
   "source": [
    "dl_dw21 = diff(loss, w21)\n",
    "dl_dw21"
   ]
  },
  {
   "cell_type": "code",
   "execution_count": 13,
   "metadata": {},
   "outputs": [
    {
     "data": {
      "text/latex": [
       "$\\displaystyle \\left(32 w_{12}^{4} \\left(1 - \\tanh^{2}{\\left(b_{12} + w_{12} x \\right)}\\right)^{2} \\tanh{\\left(b_{12} + w_{12} x \\right)} - 16 w_{12}^{4} \\left(1 - \\tanh^{2}{\\left(b_{12} + w_{12} x \\right)}\\right) \\tanh^{3}{\\left(b_{12} + w_{12} x \\right)}\\right) \\left(16 w_{11}^{4} w_{21} \\left(1 - \\tanh^{2}{\\left(b_{11} + w_{11} x \\right)}\\right)^{2} \\tanh{\\left(b_{11} + w_{11} x \\right)} - 8 w_{11}^{4} w_{21} \\left(1 - \\tanh^{2}{\\left(b_{11} + w_{11} x \\right)}\\right) \\tanh^{3}{\\left(b_{11} + w_{11} x \\right)} + 16 w_{12}^{4} w_{22} \\left(1 - \\tanh^{2}{\\left(b_{12} + w_{12} x \\right)}\\right)^{2} \\tanh{\\left(b_{12} + w_{12} x \\right)} - 8 w_{12}^{4} w_{22} \\left(1 - \\tanh^{2}{\\left(b_{12} + w_{12} x \\right)}\\right) \\tanh^{3}{\\left(b_{12} + w_{12} x \\right)}\\right)$"
      ],
      "text/plain": [
       "(32*w12**4*(1 - tanh(b12 + w12*x)**2)**2*tanh(b12 + w12*x) - 16*w12**4*(1 - tanh(b12 + w12*x)**2)*tanh(b12 + w12*x)**3)*(16*w11**4*w21*(1 - tanh(b11 + w11*x)**2)**2*tanh(b11 + w11*x) - 8*w11**4*w21*(1 - tanh(b11 + w11*x)**2)*tanh(b11 + w11*x)**3 + 16*w12**4*w22*(1 - tanh(b12 + w12*x)**2)**2*tanh(b12 + w12*x) - 8*w12**4*w22*(1 - tanh(b12 + w12*x)**2)*tanh(b12 + w12*x)**3)"
      ]
     },
     "execution_count": 13,
     "metadata": {},
     "output_type": "execute_result"
    }
   ],
   "source": [
    "dl_dw22 = diff(loss, w22)\n",
    "dl_dw22"
   ]
  },
  {
   "cell_type": "code",
   "execution_count": 14,
   "metadata": {},
   "outputs": [
    {
     "data": {
      "text/latex": [
       "$\\displaystyle \\left(32 w_{11}^{4} w_{21} \\left(1 - \\tanh^{2}{\\left(b_{11} + w_{11} x \\right)}\\right)^{3} - 64 w_{11}^{4} w_{21} \\left(1 - \\tanh^{2}{\\left(b_{11} + w_{11} x \\right)}\\right) \\left(2 - 2 \\tanh^{2}{\\left(b_{11} + w_{11} x \\right)}\\right) \\tanh^{2}{\\left(b_{11} + w_{11} x \\right)} - 16 w_{11}^{4} w_{21} \\left(1 - \\tanh^{2}{\\left(b_{11} + w_{11} x \\right)}\\right) \\left(3 - 3 \\tanh^{2}{\\left(b_{11} + w_{11} x \\right)}\\right) \\tanh^{2}{\\left(b_{11} + w_{11} x \\right)} + 16 w_{11}^{4} w_{21} \\left(2 - 2 \\tanh^{2}{\\left(b_{11} + w_{11} x \\right)}\\right) \\tanh^{4}{\\left(b_{11} + w_{11} x \\right)}\\right) \\left(16 w_{11}^{4} w_{21} \\left(1 - \\tanh^{2}{\\left(b_{11} + w_{11} x \\right)}\\right)^{2} \\tanh{\\left(b_{11} + w_{11} x \\right)} - 8 w_{11}^{4} w_{21} \\left(1 - \\tanh^{2}{\\left(b_{11} + w_{11} x \\right)}\\right) \\tanh^{3}{\\left(b_{11} + w_{11} x \\right)} + 16 w_{12}^{4} w_{22} \\left(1 - \\tanh^{2}{\\left(b_{12} + w_{12} x \\right)}\\right)^{2} \\tanh{\\left(b_{12} + w_{12} x \\right)} - 8 w_{12}^{4} w_{22} \\left(1 - \\tanh^{2}{\\left(b_{12} + w_{12} x \\right)}\\right) \\tanh^{3}{\\left(b_{12} + w_{12} x \\right)}\\right)$"
      ],
      "text/plain": [
       "(32*w11**4*w21*(1 - tanh(b11 + w11*x)**2)**3 - 64*w11**4*w21*(1 - tanh(b11 + w11*x)**2)*(2 - 2*tanh(b11 + w11*x)**2)*tanh(b11 + w11*x)**2 - 16*w11**4*w21*(1 - tanh(b11 + w11*x)**2)*(3 - 3*tanh(b11 + w11*x)**2)*tanh(b11 + w11*x)**2 + 16*w11**4*w21*(2 - 2*tanh(b11 + w11*x)**2)*tanh(b11 + w11*x)**4)*(16*w11**4*w21*(1 - tanh(b11 + w11*x)**2)**2*tanh(b11 + w11*x) - 8*w11**4*w21*(1 - tanh(b11 + w11*x)**2)*tanh(b11 + w11*x)**3 + 16*w12**4*w22*(1 - tanh(b12 + w12*x)**2)**2*tanh(b12 + w12*x) - 8*w12**4*w22*(1 - tanh(b12 + w12*x)**2)*tanh(b12 + w12*x)**3)"
      ]
     },
     "execution_count": 14,
     "metadata": {},
     "output_type": "execute_result"
    }
   ],
   "source": [
    "dl_db11 = diff(loss, b11)\n",
    "dl_db11"
   ]
  },
  {
   "cell_type": "code",
   "execution_count": 15,
   "metadata": {},
   "outputs": [
    {
     "data": {
      "text/latex": [
       "$\\displaystyle \\left(32 w_{12}^{4} w_{22} \\left(1 - \\tanh^{2}{\\left(b_{12} + w_{12} x \\right)}\\right)^{3} - 64 w_{12}^{4} w_{22} \\left(1 - \\tanh^{2}{\\left(b_{12} + w_{12} x \\right)}\\right) \\left(2 - 2 \\tanh^{2}{\\left(b_{12} + w_{12} x \\right)}\\right) \\tanh^{2}{\\left(b_{12} + w_{12} x \\right)} - 16 w_{12}^{4} w_{22} \\left(1 - \\tanh^{2}{\\left(b_{12} + w_{12} x \\right)}\\right) \\left(3 - 3 \\tanh^{2}{\\left(b_{12} + w_{12} x \\right)}\\right) \\tanh^{2}{\\left(b_{12} + w_{12} x \\right)} + 16 w_{12}^{4} w_{22} \\left(2 - 2 \\tanh^{2}{\\left(b_{12} + w_{12} x \\right)}\\right) \\tanh^{4}{\\left(b_{12} + w_{12} x \\right)}\\right) \\left(16 w_{11}^{4} w_{21} \\left(1 - \\tanh^{2}{\\left(b_{11} + w_{11} x \\right)}\\right)^{2} \\tanh{\\left(b_{11} + w_{11} x \\right)} - 8 w_{11}^{4} w_{21} \\left(1 - \\tanh^{2}{\\left(b_{11} + w_{11} x \\right)}\\right) \\tanh^{3}{\\left(b_{11} + w_{11} x \\right)} + 16 w_{12}^{4} w_{22} \\left(1 - \\tanh^{2}{\\left(b_{12} + w_{12} x \\right)}\\right)^{2} \\tanh{\\left(b_{12} + w_{12} x \\right)} - 8 w_{12}^{4} w_{22} \\left(1 - \\tanh^{2}{\\left(b_{12} + w_{12} x \\right)}\\right) \\tanh^{3}{\\left(b_{12} + w_{12} x \\right)}\\right)$"
      ],
      "text/plain": [
       "(32*w12**4*w22*(1 - tanh(b12 + w12*x)**2)**3 - 64*w12**4*w22*(1 - tanh(b12 + w12*x)**2)*(2 - 2*tanh(b12 + w12*x)**2)*tanh(b12 + w12*x)**2 - 16*w12**4*w22*(1 - tanh(b12 + w12*x)**2)*(3 - 3*tanh(b12 + w12*x)**2)*tanh(b12 + w12*x)**2 + 16*w12**4*w22*(2 - 2*tanh(b12 + w12*x)**2)*tanh(b12 + w12*x)**4)*(16*w11**4*w21*(1 - tanh(b11 + w11*x)**2)**2*tanh(b11 + w11*x) - 8*w11**4*w21*(1 - tanh(b11 + w11*x)**2)*tanh(b11 + w11*x)**3 + 16*w12**4*w22*(1 - tanh(b12 + w12*x)**2)**2*tanh(b12 + w12*x) - 8*w12**4*w22*(1 - tanh(b12 + w12*x)**2)*tanh(b12 + w12*x)**3)"
      ]
     },
     "execution_count": 15,
     "metadata": {},
     "output_type": "execute_result"
    }
   ],
   "source": [
    "dl_db12 = diff(loss, b12)\n",
    "dl_db12"
   ]
  },
  {
   "cell_type": "code",
   "execution_count": 16,
   "metadata": {},
   "outputs": [
    {
     "data": {
      "text/latex": [
       "$\\displaystyle 0$"
      ],
      "text/plain": [
       "0"
      ]
     },
     "execution_count": 16,
     "metadata": {},
     "output_type": "execute_result"
    }
   ],
   "source": [
    "dl_db2 = diff(loss, b2)\n",
    "dl_db2"
   ]
  },
  {
   "cell_type": "code",
   "execution_count": 19,
   "metadata": {},
   "outputs": [
    {
     "name": "stdout",
     "output_type": "stream",
     "text": [
      "- - - - - - - - - - - - - - - - - - - - - - - - - - - - - - - - - - - - - - - - \n"
     ]
    }
   ],
   "source": [
    "print('- - '*20)"
   ]
  },
  {
   "cell_type": "code",
   "execution_count": 13,
   "metadata": {},
   "outputs": [],
   "source": [
    "from numpy import tanh\n",
    "import numpy as np\n"
   ]
  },
  {
   "cell_type": "code",
   "execution_count": 14,
   "metadata": {},
   "outputs": [],
   "source": [
    "def dl_db11(x, nn_parameters):\n",
    "    w11, w12, w21, w22, b11, b12, b2 = nn_parameters\n",
    "    grad = (32 * w11 ** 4 * w21 * (1 - tanh(b11 + w11 * x) ** 2) ** 3 - 64 * w11 ** 4 * w21 * (\n",
    "                    1 - tanh(b11 + w11 * x) ** 2) * (2 - 2 * tanh(b11 + w11 * x) ** 2) * tanh(\n",
    "            b11 + w11 * x) ** 2 - 16 * w11 ** 4 * w21 * (1 - tanh(b11 + w11 * x) ** 2) * (\n",
    "                               3 - 3 * tanh(b11 + w11 * x) ** 2) * tanh(b11 + w11 * x) ** 2 + 16 * w11 ** 4 * w21 * (\n",
    "                               2 - 2 * tanh(b11 + w11 * x) ** 2) * tanh(b11 + w11 * x) ** 4) * (\n",
    "                              16 * w11 ** 4 * w21 * (1 - tanh(b11 + w11 * x) ** 2) ** 2 * tanh(\n",
    "                          b11 + w11 * x) - 8 * w11 ** 4 * w21 * (1 - tanh(b11 + w11 * x) ** 2) * tanh(\n",
    "                          b11 + w11 * x) ** 3 + 16 * w12 ** 4 * w22 * (1 - tanh(b12 + w12 * x) ** 2) ** 2 * tanh(\n",
    "                          b12 + w12 * x) - 8 * w12 ** 4 * w22 * (1 - tanh(b12 + w12 * x) ** 2) * tanh(b12 + w12 * x) ** 3)\n",
    "    return grad\n"
   ]
  },
  {
   "cell_type": "code",
   "execution_count": 15,
   "metadata": {},
   "outputs": [],
   "source": [
    "def dl_db12(x, nn_parameters):\n",
    "    w11, w12, w21, w22, b11, b12, b2 = nn_parameters\n",
    "    grad = (32 * w12 ** 4 * w22 * (1 - tanh(b12 + w12 * x) ** 2) ** 3 - 64 * w12 ** 4 * w22 * (\n",
    "                    1 - tanh(b12 + w12 * x) ** 2) * (2 - 2 * tanh(b12 + w12 * x) ** 2) * tanh(\n",
    "            b12 + w12 * x) ** 2 - 16 * w12 ** 4 * w22 * (1 - tanh(b12 + w12 * x) ** 2) * (\n",
    "                               3 - 3 * tanh(b12 + w12 * x) ** 2) * tanh(b12 + w12 * x) ** 2 + 16 * w12 ** 4 * w22 * (\n",
    "                               2 - 2 * tanh(b12 + w12 * x) ** 2) * tanh(b12 + w12 * x) ** 4) * (\n",
    "                              16 * w11 ** 4 * w21 * (1 - tanh(b11 + w11 * x) ** 2) ** 2 * tanh(\n",
    "                          b11 + w11 * x) - 8 * w11 ** 4 * w21 * (1 - tanh(b11 + w11 * x) ** 2) * tanh(\n",
    "                          b11 + w11 * x) ** 3 + 16 * w12 ** 4 * w22 * (1 - tanh(b12 + w12 * x) ** 2) ** 2 * tanh(\n",
    "                          b12 + w12 * x) - 8 * w12 ** 4 * w22 * (1 - tanh(b12 + w12 * x) ** 2) * tanh(b12 + w12 * x) ** 3)\n",
    "    return grad"
   ]
  },
  {
   "cell_type": "code",
   "execution_count": 16,
   "metadata": {},
   "outputs": [],
   "source": [
    "def dl_db2(x, _):\n",
    "    grad = 0 * x\n",
    "    return grad"
   ]
  },
  {
   "cell_type": "code",
   "execution_count": 17,
   "metadata": {},
   "outputs": [],
   "source": [
    "def dl_dw11(x, nn_parameters):\n",
    "    w11, w12, w21, w22, b11, b12, b2 = nn_parameters\n",
    "    grad = (16 * w11 ** 4 * w21 * (1 - tanh(b11 + w11 * x) ** 2) ** 2 * tanh(b11 + w11 * x) - 8 * w11 ** 4 * w21 * (\n",
    "                    1 - tanh(b11 + w11 * x) ** 2) * tanh(b11 + w11 * x) ** 3 + 16 * w12 ** 4 * w22 * (\n",
    "                               1 - tanh(b12 + w12 * x) ** 2) ** 2 * tanh(b12 + w12 * x) - 8 * w12 ** 4 * w22 * (\n",
    "                               1 - tanh(b12 + w12 * x) ** 2) * tanh(b12 + w12 * x) ** 3) * (\n",
    "                              32 * w11 ** 4 * w21 * x * (1 - tanh(b11 + w11 * x) ** 2) ** 3 - 176 * w11 ** 4 * w21 * x * (\n",
    "                                  1 - tanh(b11 + w11 * x) ** 2) ** 2 * tanh(\n",
    "                          b11 + w11 * x) ** 2 + 32 * w11 ** 4 * w21 * x * (1 - tanh(b11 + w11 * x) ** 2) * tanh(\n",
    "                          b11 + w11 * x) ** 4 + 128 * w11 ** 3 * w21 * (1 - tanh(b11 + w11 * x) ** 2) ** 2 * tanh(\n",
    "                          b11 + w11 * x) - 64 * w11 ** 3 * w21 * (1 - tanh(b11 + w11 * x) ** 2) * tanh(b11 + w11 * x) ** 3)\n",
    "    return grad\n"
   ]
  },
  {
   "cell_type": "code",
   "execution_count": 18,
   "metadata": {},
   "outputs": [],
   "source": [
    "def dl_dw12(x, nn_parameters):\n",
    "    w11, w12, w21, w22, b11, b12, b2 = nn_parameters\n",
    "    grad = (16 * w11 ** 4 * w21 * (1 - tanh(b11 + w11 * x) ** 2) ** 2 * tanh(b11 + w11 * x) - 8 * w11 ** 4 * w21 * (\n",
    "            1 - tanh(b11 + w11 * x) ** 2) * tanh(b11 + w11 * x) ** 3 + 16 * w12 ** 4 * w22 * (\n",
    "                       1 - tanh(b12 + w12 * x) ** 2) ** 2 * tanh(b12 + w12 * x) - 8 * w12 ** 4 * w22 * (\n",
    "                       1 - tanh(b12 + w12 * x) ** 2) * tanh(b12 + w12 * x) ** 3) * (\n",
    "                      32 * w12 ** 4 * w22 * x * (1 - tanh(b12 + w12 * x) ** 2) ** 3 - 176 * w12 ** 4 * w22 * x * (\n",
    "                          1 - tanh(b12 + w12 * x) ** 2) ** 2 * tanh(\n",
    "                  b12 + w12 * x) ** 2 + 32 * w12 ** 4 * w22 * x * (1 - tanh(b12 + w12 * x) ** 2) * tanh(\n",
    "                  b12 + w12 * x) ** 4 + 128 * w12 ** 3 * w22 * (1 - tanh(b12 + w12 * x) ** 2) ** 2 * tanh(\n",
    "                  b12 + w12 * x) - 64 * w12 ** 3 * w22 * (1 - tanh(b12 + w12 * x) ** 2) * tanh(b12 + w12 * x) ** 3)\n",
    "    return grad"
   ]
  },
  {
   "cell_type": "code",
   "execution_count": 19,
   "metadata": {},
   "outputs": [],
   "source": [
    "def dl_dw21(x, nn_parameters):\n",
    "    w11, w12, w21, w22, b11, b12, b2 = nn_parameters\n",
    "    grad = (32 * w11 ** 4 * (1 - tanh(b11 + w11 * x) ** 2) ** 2 * tanh(b11 + w11 * x) - 16 * w11 ** 4 * (\n",
    "        1 - tanh(b11 + w11 * x) ** 2) * tanh(b11 + w11 * x) ** 3) * (\n",
    "                  16 * w11 ** 4 * w21 * (1 - tanh(b11 + w11 * x) ** 2) ** 2 * tanh(\n",
    "              b11 + w11 * x) - 8 * w11 ** 4 * w21 * (1 - tanh(b11 + w11 * x) ** 2) * tanh(\n",
    "              b11 + w11 * x) ** 3 + 16 * w12 ** 4 * w22 * (1 - tanh(b12 + w12 * x) ** 2) ** 2 * tanh(\n",
    "              b12 + w12 * x) - 8 * w12 ** 4 * w22 * (1 - tanh(b12 + w12 * x) ** 2) * tanh(b12 + w12 * x) ** 3)\n",
    "    return grad"
   ]
  },
  {
   "cell_type": "code",
   "execution_count": 20,
   "metadata": {},
   "outputs": [],
   "source": [
    "def dl_dw22(x, nn_parameters):\n",
    "    w11, w12, w21, w22, b11, b12, b2 = nn_parameters\n",
    "    grad = (32 * w12 ** 4 * (1 - tanh(b12 + w12 * x) ** 2) ** 2 * tanh(b12 + w12 * x) - 16 * w12 ** 4 * (\n",
    "                    1 - tanh(b12 + w12 * x) ** 2) * tanh(b12 + w12 * x) ** 3) * (\n",
    "                              16 * w11 ** 4 * w21 * (1 - tanh(b11 + w11 * x) ** 2) ** 2 * tanh(\n",
    "                          b11 + w11 * x) - 8 * w11 ** 4 * w21 * (1 - tanh(b11 + w11 * x) ** 2) * tanh(\n",
    "                          b11 + w11 * x) ** 3 + 16 * w12 ** 4 * w22 * (1 - tanh(b12 + w12 * x) ** 2) ** 2 * tanh(\n",
    "                          b12 + w12 * x) - 8 * w12 ** 4 * w22 * (1 - tanh(b12 + w12 * x) ** 2) * tanh(b12 + w12 * x) ** 3)\n",
    "    return grad"
   ]
  },
  {
   "cell_type": "code",
   "execution_count": 24,
   "metadata": {},
   "outputs": [],
   "source": [
    "def sgd(parameters, grad, lr):\n",
    "    p_ = parameters.copy()\n",
    "    for i, p in enumerate(parameters):\n",
    "        p -= grad[i] * lr\n",
    "        p_[i] = p\n",
    "    return p_"
   ]
  },
  {
   "cell_type": "code",
   "execution_count": 37,
   "metadata": {},
   "outputs": [],
   "source": [
    "def adam(parameters, grad, lr, s, r):\n",
    "    rho1 = 0.9\n",
    "    rho2 = 0.999\n",
    "    delta = 10**-8\n",
    "    p_ = parameters.copy()\n",
    "    for i, p in enumerate(parameters):\n",
    "        s_ = s[i]\n",
    "        r_ = r[i]\n",
    "        s_ = rho1 * s_ + (1-rho1) *grad[i]\n",
    "        r_ = rho2 * r_ + (1-rho2) * grad[i] * grad[i]\n",
    "        s[i] = s_\n",
    "        r[i] = r_\n",
    "        s_ = s_/(1-rho1)\n",
    "        r_ = r_/(1-rho2)\n",
    "        d_p = - lr * s_/(np.sqrt(r_)+delta)\n",
    "        p += d_p\n",
    "        p_[i] = p\n",
    "    return p_, s, r"
   ]
  },
  {
   "cell_type": "code",
   "execution_count": 38,
   "metadata": {},
   "outputs": [],
   "source": [
    "from numpy import tanh\n",
    "w11_all = []\n",
    "w12_all = []\n",
    "w21_all = []\n",
    "w22_all = []\n",
    "\n",
    "for it in range(10):  #  重复试验了10次\n",
    "    np.random.seed(it)\n",
    "    random_numbers = np.random.uniform(-1, 1, 7)  # 初始化7个NN参数，w, b~[-1, 1]\n",
    "    w11 = random_numbers[0]\n",
    "    w12 = random_numbers[1]\n",
    "    w21 = random_numbers[2]\n",
    "    w22 = random_numbers[3]  \n",
    "    b11 = random_numbers[4]\n",
    "    b12 = random_numbers[5]\n",
    "    b2 = random_numbers[6]\n",
    "    x = np.linspace(0, 1, 11, endpoint=True)  # x均匀采样于[0, 1]\n",
    "    lr = 0.001  # 学习率\n",
    "    w11_list = []\n",
    "    w12_list = []\n",
    "    w21_list = []\n",
    "    w22_list = []\n",
    "\n",
    "    for i in range(1000):  # 每次试验，NN的7个参数更新迭代1000次\n",
    "        # print(i)\n",
    "        w11_list += [[i, w11]]\n",
    "        w12_list += [[i, w12]]\n",
    "        w21_list += [[i, w21]]\n",
    "        w22_list += [[i, w22]]\n",
    "        nn_parameters = (w11, w12, w21, w22, b11, b12, b2)\n",
    "        dw11 = dl_dw11(x, nn_parameters)\n",
    "        dw12 = dl_dw12(x, nn_parameters)\n",
    "        dw21 = dl_dw21(x, nn_parameters)\n",
    "        dw22 = dl_dw22(x, nn_parameters)\n",
    "        db11 = dl_db11(x, nn_parameters)\n",
    "        db12 = dl_db12(x, nn_parameters)\n",
    "        db2 = dl_db2(x, nn_parameters)\n",
    "        # dl_dw11_value = dl_dw11.evalf(subs={'w11': w11_value, 'w12': 1, 'w21': 1, 'w22': 1, 'x': 0.5, 'b11': 0, 'b12': 0})\n",
    "        parameters = [w11, w12, w21, w22, b11, b12, b2]\n",
    "        grad = [dw11.mean(), dw12.mean(), dw21.mean(), dw22.mean(), db11.mean(), db12.mean(), db2.mean()]\n",
    "        parameters_ = sgd(parameters, grad, lr)\n",
    "        s = [0] * 7\n",
    "        r = [0] * 7\n",
    "        parameters_, s, r = adam(parameters, grad, lr, s, r)\n",
    "        # w11 = w11 - dw11.mean() * lr  # 梯度下降法 梯度*学习率\n",
    "        [w11, w12, w21, w22, b11, b12, b2] = parameters_\n",
    "    w11_ar = np.array(w11_list)\n",
    "    w12_ar = np.array(w12_list)\n",
    "    w21_ar = np.array(w21_list)\n",
    "    w22_ar = np.array(w22_list)\n",
    "\n",
    "    w11_all += [w11_ar]\n",
    "    w12_all += [w12_ar]\n",
    "    w21_all += [w21_ar]\n",
    "    w22_all += [w22_ar]\n",
    "\n"
   ]
  },
  {
   "cell_type": "code",
   "execution_count": 39,
   "metadata": {},
   "outputs": [
    {
     "data": {
      "image/png": "[encoded data removed]",
      "text/plain": [
       "<Figure size 432x288 with 1 Axes>"
      ]
     },
     "metadata": {
      "needs_background": "light"
     },
     "output_type": "display_data"
    }
   ],
   "source": [
    "import matplotlib.pyplot as plt\n",
    "%matplotlib inline\n",
    "plt.figure()\n",
    "for w11_ar in w11_all:\n",
    "    plt.plot(w11_ar[:, 0], w11_ar[:, 1])\n",
    "plt.title('w11')\n",
    "plt.show()\n",
    "# w11随迭代的变化，不同颜色代表各次重复试验"
   ]
  },
  {
   "cell_type": "code",
   "execution_count": 40,
   "metadata": {},
   "outputs": [
    {
     "data": {
      "image/png": "[encoded data removed]",
      "text/plain": [
       "<Figure size 432x288 with 1 Axes>"
      ]
     },
     "metadata": {
      "needs_background": "light"
     },
     "output_type": "display_data"
    }
   ],
   "source": [
    "plt.figure()\n",
    "for w12_ar in w12_all:\n",
    "    plt.plot(w12_ar[:, 0], w12_ar[:, 1])\n",
    "plt.title('w12')\n",
    "plt.show()"
   ]
  },
  {
   "cell_type": "code",
   "execution_count": 41,
   "metadata": {},
   "outputs": [
    {
     "data": {
      "image/png": "[encoded data removed]",
      "text/plain": [
       "<Figure size 432x288 with 1 Axes>"
      ]
     },
     "metadata": {
      "needs_background": "light"
     },
     "output_type": "display_data"
    }
   ],
   "source": [
    "plt.figure()\n",
    "for w21_ar in w21_all:\n",
    "    plt.plot(w21_ar[:, 0], w21_ar[:, 1])\n",
    "plt.title('w21')\n",
    "plt.show()"
   ]
  },
  {
   "cell_type": "code",
   "execution_count": 42,
   "metadata": {},
   "outputs": [
    {
     "data": {
      "image/png": "[encoded data removed]",
      "text/plain": [
       "<Figure size 432x288 with 1 Axes>"
      ]
     },
     "metadata": {
      "needs_background": "light"
     },
     "output_type": "display_data"
    }
   ],
   "source": [
    "\n",
    "plt.figure()\n",
    "for w22_ar in w22_all:\n",
    "    plt.plot(w22_ar[:, 0], w22_ar[:, 1])\n",
    "plt.title('w22')\n",
    "plt.show()\n"
   ]
  },
  {
   "cell_type": "code",
   "execution_count": 33,
   "metadata": {},
   "outputs": [
    {
     "data": {
      "image/png": "[encoded data removed]",
      "text/plain": [
       "<Figure size 432x288 with 4 Axes>"
      ]
     },
     "metadata": {
      "needs_background": "light"
     },
     "output_type": "display_data"
    }
   ],
   "source": [
    "\n",
    "plt.figure()\n",
    "plt.subplot(2, 2, 1)\n",
    "for w11_ar in w11_all:\n",
    "    plt.plot(w11_ar[:, 0], w11_ar[:, 1])\n",
    "# plt.title('$ \\omega_{11} $')\n",
    "plt.xlabel('iteration')\n",
    "plt.ylabel('$ w_{11} $')\n",
    "plt.xlim(0, 100)\n",
    "plt.ylim(-1, 1)\n",
    "plt.tight_layout()\n",
    "\n",
    "plt.subplot(2, 2, 2)\n",
    "for w12_ar in w12_all:\n",
    "    plt.plot(w12_ar[:, 0], w12_ar[:, 1])\n",
    "plt.xlabel('iteration')\n",
    "plt.ylabel('$ w_{12} $')\n",
    "plt.xlim(0, 100)\n",
    "plt.ylim(-1, 1)\n",
    "plt.tight_layout()\n",
    "\n",
    "plt.subplot(2, 2, 3)\n",
    "for w21_ar in w21_all:\n",
    "    plt.plot(w21_ar[:, 0], w21_ar[:, 1])\n",
    "plt.xlabel('iteration')\n",
    "plt.ylabel('$ w_{21} $')\n",
    "plt.xlim(0, 100)\n",
    "plt.ylim(-1, 1)\n",
    "plt.tight_layout()\n",
    "\n",
    "plt.subplot(2, 2, 4)\n",
    "for w22_ar in w22_all:\n",
    "    plt.plot(w22_ar[:, 0], w22_ar[:, 1])\n",
    "plt.xlabel('iteration')\n",
    "plt.ylabel('$ w_{22} $')\n",
    "plt.xlim(0, 100)\n",
    "plt.ylim(-1, 1)\n",
    "plt.tight_layout()\n",
    "\n",
    "plt.show()"
   ]
  },
  {
   "cell_type": "code",
   "execution_count": null,
   "metadata": {},
   "outputs": [],
   "source": []
  }
 ],
 "metadata": {
  "kernelspec": {
   "display_name": "Python 3",
   "language": "python",
   "name": "python3"
  },
  "language_info": {
   "codemirror_mode": {
    "name": "ipython",
    "version": 3
   },
   "file_extension": ".py",
   "mimetype": "text/x-python",
   "name": "python",
   "nbconvert_exporter": "python",
   "pygments_lexer": "ipython3",
   "version": "3.7.6"
  }
 },
 "nbformat": 4,
 "nbformat_minor": 4
}
